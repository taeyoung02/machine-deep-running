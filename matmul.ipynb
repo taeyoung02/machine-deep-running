{
  "nbformat": 4,
  "nbformat_minor": 0,
  "metadata": {
    "colab": {
      "name": "Untitled1.ipynb",
      "provenance": [],
      "collapsed_sections": [],
      "include_colab_link": true
    },
    "kernelspec": {
      "name": "python3",
      "display_name": "Python 3"
    }
  },
  "cells": [
    {
      "cell_type": "markdown",
      "metadata": {
        "id": "view-in-github",
        "colab_type": "text"
      },
      "source": [
        "<a href=\"https://colab.research.google.com/github/taeyoung02/machine-deep-running/blob/master/matmul.ipynb\" target=\"_parent\"><img src=\"https://colab.research.google.com/assets/colab-badge.svg\" alt=\"Open In Colab\"/></a>"
      ]
    },
    {
      "cell_type": "code",
      "metadata": {
        "id": "hS0r8VZOzqFw",
        "colab_type": "code",
        "colab": {}
      },
      "source": [
        "import tensorflow as tf\n",
        "x_data=[[73.,80.,75.,],[96.,98.,75],[34.,31.,65.],[23.,56.,87.,],[21.,43.,65.]]\n",
        "y_data=[[152.],[185.],[180.],[232.],[142.]]\n",
        "      \n",
        "X=tf.placeholder(tf.float32, shape=[None,3])#데이타 세트의 갯수:None(뭐든받음), 요소:3개\n",
        "Y=tf.placeholder(tf.float32, shape=[None,1])\n",
        "#X=[5,3] Y=[3,1]이니 W=[5,1]\n",
        "W=tf.Variable(tf.random_normal([3,1]),name='weight')\n",
        "b=tf.Variable(tf.random_normal([1]),name='bias')\n",
        "\n",
        "hypothesis=tf.matmul(X,W)+b\n",
        "\n",
        "cost=tf.reduce_mean(tf.square(hypothesis-Y))\n",
        "\n",
        "optimizer = tf.train.GradientDescentOptimizer(learning_rate=1e-5)\n",
        "train = optimizer.minimize(cost)\n",
        "\n",
        "sess= tf.Session()\n",
        "\n",
        "sess.run(tf.global_variables_initializer())\n",
        "\n",
        "for step in range(2001):\n",
        "  cost_val, hy_val, B,_ = sess.run(#x_data에 5개씩 들어있으니 hy_val도 5개가 나옴\n",
        "      [cost, hypothesis,b, train], feed_dict={X:x_data, Y:y_data})\n",
        "  if step%10==0:\n",
        "    print(step, \"Cost: \",cost_val, \"\\nPrediction:\\n\", hy_val, B)"
      ],
      "execution_count": 0,
      "outputs": []
    },
    {
      "cell_type": "code",
      "metadata": {
        "id": "mVZ86-zeGky4",
        "colab_type": "code",
        "colab": {}
      },
      "source": [
        "import tensorflow as tf\n",
        "\n",
        "# X_data=[1,2,3]\n",
        "# Y_data=[1,2,3]\n",
        "x=[1,2,3]\n",
        "y=[1,2,3]\n",
        "#w=tf.Variable(tf.random_normal([1]),name='weight')\n",
        "# x=tf.placeholder(tf.float32)\n",
        "# y=tf.placeholder(tf.float32)\n",
        "\n",
        "w=tf.Variable(5.0)\n",
        "hypothesis=x*w\n",
        "\n",
        "cost = tf.reduce_mean(tf.square(hypothesis-y))\n",
        "\n",
        "#자동으로 미분하고 훈련시킴\n",
        "optimizer=tf.train.GradientDescentOptimizer(learning_rate=0.1)\n",
        "train=optimizer.minimize(cost)\n",
        "# learning_rate=0.1\n",
        "# gradient=tf.reduce_mean((w*x-y)*x)\n",
        "# descent=w-learning_rate*gradient\n",
        "# update=w.assign(descent)\n",
        "\n",
        "sess=tf.Session()\n",
        "sess.run(tf.global_variables_initializer())\n",
        "\n",
        "for step in range(100):\n",
        "  print(step,sess.run(w))\n",
        "  sess.run(train)\n",
        "# for step in range(21):\n",
        "#   sess.run(update, feed_dict={x:X_data, y:Y_data})\n",
        "#   print(step, sess.run(cost, feed_dict={x:X_data, y:Y_data}),sess.run(w))"
      ],
      "execution_count": 0,
      "outputs": []
    },
    {
      "cell_type": "code",
      "metadata": {
        "id": "GQIb3Op9B4ke",
        "colab_type": "code",
        "colab": {}
      },
      "source": [
        "import tensorflow as tf\n",
        "import matplotlib.pyplot as plt\n",
        "X=[1,2,3]\n",
        "Y=[1,2,3]\n",
        "\n",
        "w=tf.placeholder(tf.float32)\n",
        "\n",
        "hypothesis=X*w\n",
        "\n",
        "cost = tf.reduce_mean(tf.square(hypothesis-Y))\n",
        "sess=tf.Session()\n",
        "sess.run(tf.global_variables_initializer())\n",
        "W_val=[]\n",
        "cost_val=[]\n",
        "for i in range(-30,50):\n",
        "  feed_W=i*0.1 # W를 0.1씩 증가시키겠다\n",
        "  curr_cost, curr_W = sess.run([cost,w], feed_dict={w:feed_W})\n",
        "  W_val.append(curr_W)\n",
        "  cost_val.append(curr_cost)\n",
        "\n",
        "#그래프보여줌\n",
        "  plt.plot(W_val, cost_val) #W가 1일때 가격이 제일낮음 W=1로 수렴\n",
        "  plt.show()"
      ],
      "execution_count": 0,
      "outputs": []
    },
    {
      "cell_type": "code",
      "metadata": {
        "id": "Ifawg87B4OT1",
        "colab_type": "code",
        "colab": {}
      },
      "source": [
        "import tensorflow as tf\n",
        "# x_train = [1,2,3]\n",
        "# y_train = [1,2,3]\n",
        "x=tf.placeholder(tf.float32, shape=[None]) #1차원배열에 몇개들어갈지 모름\n",
        "y=tf.placeholder(tf.float32)\n",
        "#tensorflow가 값 조정\n",
        "W = tf.Variable(tf.random_normal([1]),name = 'weight')#1차원 배열 1개\n",
        "b = tf.Variable(tf.random_normal([1]),name= 'bias')\n",
        "\n",
        "hypothesis = x*W + b #예상 y값\n",
        "\n",
        "cost = tf.reduce_mean(tf.square(hypothesis-y)) #예상 y값-실제y값 의 제곱의 평균\n",
        "\n",
        "#minimize\n",
        "optimizer = tf.train.GradientDescentOptimizer(learning_rate=0.01)\n",
        "train = optimizer.minimize(cost)\n",
        "#그래프 실행\n",
        "sess=tf.Session()\n",
        "\n",
        "sess.run(tf.global_variables_initializer()) #변수 초기화\n",
        "\n",
        "for step in range(1001):\n",
        "  cost_val, W_val, b_val, _ = \\\n",
        "  sess.run([cost, W, b, train], feed_dict={x:[1,2,3,4,5], y:[2.1,3.1,4.1,5.1,6.1]})\n",
        "  if step %20==0:\n",
        "    print(step,cost_val,W_val,b_val)\n",
        "#훈련\n",
        "# for step in range(1001):\n",
        "#   sess.run(train)\n",
        "#   if step%20==0:\n",
        "#     print(step, sess.run(cost),sess.run(W), sess.run(b))\n",
        " \n"
      ],
      "execution_count": 0,
      "outputs": []
    },
    {
      "cell_type": "code",
      "metadata": {
        "id": "uK1APYjS8VQ3",
        "colab_type": "code",
        "colab": {}
      },
      "source": [
        "import tensorflow as tf\n",
        "\n",
        "node1=tf.constant(3.0, tf.float32)\n",
        "node2 =tf.constant(4.0)\n",
        "node3=tf.add(node1,node2)\n",
        "\n",
        "print(node1,node2,node3)\n",
        "\n",
        "\n",
        "sess=tf.Session()\n",
        "print(sess.run([node1,node2]))\n",
        "print(sess.run(node3))\n"
      ],
      "execution_count": 0,
      "outputs": []
    }
  ]
}