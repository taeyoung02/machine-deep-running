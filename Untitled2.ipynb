{
  "nbformat": 4,
  "nbformat_minor": 0,
  "metadata": {
    "colab": {
      "name": "Untitled2.ipynb",
      "provenance": [],
      "authorship_tag": "ABX9TyPhrglJPone58xD+T6feBfs",
      "include_colab_link": true
    },
    "kernelspec": {
      "name": "python3",
      "display_name": "Python 3"
    }
  },
  "cells": [
    {
      "cell_type": "markdown",
      "metadata": {
        "id": "view-in-github",
        "colab_type": "text"
      },
      "source": [
        "<a href=\"https://colab.research.google.com/github/taeyoung02/machine-deep-running/blob/master/Untitled2.ipynb\" target=\"_parent\"><img src=\"https://colab.research.google.com/assets/colab-badge.svg\" alt=\"Open In Colab\"/></a>"
      ]
    },
    {
      "cell_type": "code",
      "metadata": {
        "id": "uW0C7LdRLQQY",
        "colab_type": "code",
        "colab": {
          "base_uri": "https://localhost:8080/",
          "height": 71
        },
        "outputId": "bb1cc040-083a-4cac-c7eb-f7b44eaf26b9"
      },
      "source": [
        "pip install -q tensorflow-gpu==2.0.0-rc1"
      ],
      "execution_count": 1,
      "outputs": [
        {
          "output_type": "stream",
          "text": [
            "\u001b[K     |████████████████████████████████| 380.5MB 41kB/s \n",
            "\u001b[K     |████████████████████████████████| 4.3MB 41.4MB/s \n",
            "\u001b[K     |████████████████████████████████| 501kB 51.4MB/s \n",
            "\u001b[?25h"
          ],
          "name": "stdout"
        }
      ]
    },
    {
      "cell_type": "code",
      "metadata": {
        "id": "nF0AFzm8LxHO",
        "colab_type": "code",
        "colab": {}
      },
      "source": [
        "from __future__ import absolute_import, division, print_function, unicode_literals"
      ],
      "execution_count": 0,
      "outputs": []
    },
    {
      "cell_type": "code",
      "metadata": {
        "id": "TubZl5jXNyu3",
        "colab_type": "code",
        "colab": {}
      },
      "source": [
        "import tensorflow as tf\n",
        "import numpy as np"
      ],
      "execution_count": 0,
      "outputs": []
    },
    {
      "cell_type": "code",
      "metadata": {
        "id": "5V9986wYbLp_",
        "colab_type": "code",
        "colab": {}
      },
      "source": [
        "x_train=[1,2,3]\n",
        "y_train=[4,5,6]"
      ],
      "execution_count": 0,
      "outputs": []
    },
    {
      "cell_type": "code",
      "metadata": {
        "id": "vJzNGw9oN5KO",
        "colab_type": "code",
        "colab": {}
      },
      "source": [
        "# keras의 다차원 계층 모델인 Sequential를 레이어를 만든다.\n",
        "model = tf.keras.models.Sequential()"
      ],
      "execution_count": 0,
      "outputs": []
    },
    {
      "cell_type": "code",
      "metadata": {
        "id": "FhY2ENCoapbG",
        "colab_type": "code",
        "colab": {}
      },
      "source": [
        "# 입력이 1차원이고 출력이 1차원임을 뜻함 - Dense는 레이어의 종류\n",
        "model.add(tf.keras.layers.Dense(1, input_dim=1))"
      ],
      "execution_count": 0,
      "outputs": []
    },
    {
      "cell_type": "code",
      "metadata": {
        "id": "t5OvNQJIawy7",
        "colab_type": "code",
        "colab": {}
      },
      "source": [
        "# Optimizer - Stochastic gradient descent - 확률적 경사 하강법\n",
        "sgd = tf.keras.optimizers.SGD(learning_rate=0.01)"
      ],
      "execution_count": 0,
      "outputs": []
    },
    {
      "cell_type": "code",
      "metadata": {
        "id": "e2jgkUW_a3ej",
        "colab_type": "code",
        "colab": {}
      },
      "source": [
        "# cost/loss funcion\n",
        "# loss를 mean_squared_error 방식을 사용한다는 의미로 mse 라고 써도 인식한다.\n",
        "model.compile(loss='mean_squared_error', optimizer=sgd)"
      ],
      "execution_count": 0,
      "outputs": []
    },
    {
      "cell_type": "code",
      "metadata": {
        "id": "BHStRI53a8Cw",
        "colab_type": "code",
        "colab": {}
      },
      "source": [
        "#fit the line\n",
        "# 텐서 플로우 1과 다르게 세션을 만들어서 돌릴 필요가 없다.\n",
        "# 간단하게 만들어서 학습을 시작한다.\n",
        "model.fit(x_train, y_train, epochs=2000)"
      ],
      "execution_count": 0,
      "outputs": []
    },
    {
      "cell_type": "code",
      "metadata": {
        "id": "e_LsJqcibR4h",
        "colab_type": "code",
        "colab": {
          "base_uri": "https://localhost:8080/",
          "height": 53
        },
        "outputId": "1be1264a-0add-4715-853a-9c05410cdd46"
      },
      "source": [
        "# 예상값이 얼마인지 확인하는 부분\n",
        "model.predict([4,100000])"
      ],
      "execution_count": 18,
      "outputs": [
        {
          "output_type": "execute_result",
          "data": {
            "text/plain": [
              "array([[7.0125341e+00],\n",
              "       [1.0072886e+05]], dtype=float32)"
            ]
          },
          "metadata": {
            "tags": []
          },
          "execution_count": 18
        }
      ]
    },
    {
      "cell_type": "code",
      "metadata": {
        "id": "AcjsSGv_cyqR",
        "colab_type": "code",
        "colab": {}
      },
      "source": [
        ""
      ],
      "execution_count": 0,
      "outputs": []
    }
  ]
}