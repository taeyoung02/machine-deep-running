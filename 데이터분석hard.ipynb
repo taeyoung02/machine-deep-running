{
 "cells": [
  {
   "cell_type": "code",
   "execution_count": 31,
   "metadata": {},
   "outputs": [],
   "source": [
    "import pandas as pd\n",
    "%matplotlib inline#화면에 시각화된 결과 바로 띄움\n",
    "import seaborn as sb#data visualizaition module\n",
    "import matplotlib.pyplot as plt#data visualizaition module"
   ]
  },
  {
   "cell_type": "code",
   "execution_count": 2,
   "metadata": {},
   "outputs": [],
   "source": [
    "data = pd.read_excel(\"C:/Users/User/Documents/카카오톡 받은 파일/Hard1.xlsx\",header=0, names=['글자세트', '그림세트','Set','Relation','Response','RT'])"
   ]
  },
  {
   "cell_type": "code",
   "execution_count": 3,
   "metadata": {},
   "outputs": [
    {
     "data": {
      "text/html": [
       "<div>\n",
       "<style scoped>\n",
       "    .dataframe tbody tr th:only-of-type {\n",
       "        vertical-align: middle;\n",
       "    }\n",
       "\n",
       "    .dataframe tbody tr th {\n",
       "        vertical-align: top;\n",
       "    }\n",
       "\n",
       "    .dataframe thead th {\n",
       "        text-align: right;\n",
       "    }\n",
       "</style>\n",
       "<table border=\"1\" class=\"dataframe\">\n",
       "  <thead>\n",
       "    <tr style=\"text-align: right;\">\n",
       "      <th></th>\n",
       "      <th>글자세트</th>\n",
       "      <th>그림세트</th>\n",
       "      <th>Set</th>\n",
       "      <th>Relation</th>\n",
       "      <th>Response</th>\n",
       "      <th>RT</th>\n",
       "    </tr>\n",
       "  </thead>\n",
       "  <tbody>\n",
       "    <tr>\n",
       "      <td>0</td>\n",
       "      <td>13</td>\n",
       "      <td>37</td>\n",
       "      <td>1</td>\n",
       "      <td>U</td>\n",
       "      <td>q</td>\n",
       "      <td>0.630571</td>\n",
       "    </tr>\n",
       "    <tr>\n",
       "      <td>1</td>\n",
       "      <td>36</td>\n",
       "      <td>7</td>\n",
       "      <td>0</td>\n",
       "      <td>U</td>\n",
       "      <td>r</td>\n",
       "      <td>47.221504</td>\n",
       "    </tr>\n",
       "    <tr>\n",
       "      <td>2</td>\n",
       "      <td>14</td>\n",
       "      <td>14</td>\n",
       "      <td>0</td>\n",
       "      <td>R</td>\n",
       "      <td>r</td>\n",
       "      <td>0.895417</td>\n",
       "    </tr>\n",
       "    <tr>\n",
       "      <td>3</td>\n",
       "      <td>4</td>\n",
       "      <td>4</td>\n",
       "      <td>1</td>\n",
       "      <td>R</td>\n",
       "      <td>r</td>\n",
       "      <td>0.511395</td>\n",
       "    </tr>\n",
       "    <tr>\n",
       "      <td>4</td>\n",
       "      <td>1</td>\n",
       "      <td>1</td>\n",
       "      <td>0</td>\n",
       "      <td>R</td>\n",
       "      <td>r</td>\n",
       "      <td>0.699193</td>\n",
       "    </tr>\n",
       "  </tbody>\n",
       "</table>\n",
       "</div>"
      ],
      "text/plain": [
       "   글자세트  그림세트  Set Relation Response         RT\n",
       "0    13    37    1        U        q   0.630571\n",
       "1    36     7    0        U        r  47.221504\n",
       "2    14    14    0        R        r   0.895417\n",
       "3     4     4    1        R        r   0.511395\n",
       "4     1     1    0        R        r   0.699193"
      ]
     },
     "execution_count": 3,
     "metadata": {},
     "output_type": "execute_result"
    }
   ],
   "source": [
    "data.head()"
   ]
  },
  {
   "cell_type": "code",
   "execution_count": 4,
   "metadata": {},
   "outputs": [
    {
     "data": {
      "text/plain": [
       "(3840, 6)"
      ]
     },
     "execution_count": 4,
     "metadata": {},
     "output_type": "execute_result"
    }
   ],
   "source": [
    "data.shape"
   ]
  },
  {
   "cell_type": "code",
   "execution_count": 5,
   "metadata": {},
   "outputs": [
    {
     "data": {
      "text/html": [
       "<div>\n",
       "<style scoped>\n",
       "    .dataframe tbody tr th:only-of-type {\n",
       "        vertical-align: middle;\n",
       "    }\n",
       "\n",
       "    .dataframe tbody tr th {\n",
       "        vertical-align: top;\n",
       "    }\n",
       "\n",
       "    .dataframe thead th {\n",
       "        text-align: right;\n",
       "    }\n",
       "</style>\n",
       "<table border=\"1\" class=\"dataframe\">\n",
       "  <thead>\n",
       "    <tr style=\"text-align: right;\">\n",
       "      <th></th>\n",
       "      <th>글자세트</th>\n",
       "      <th>그림세트</th>\n",
       "      <th>Set</th>\n",
       "      <th>RT</th>\n",
       "    </tr>\n",
       "  </thead>\n",
       "  <tbody>\n",
       "    <tr>\n",
       "      <td>count</td>\n",
       "      <td>3840.0000</td>\n",
       "      <td>3840.0000</td>\n",
       "      <td>3840.000000</td>\n",
       "      <td>3840.000000</td>\n",
       "    </tr>\n",
       "    <tr>\n",
       "      <td>mean</td>\n",
       "      <td>20.5000</td>\n",
       "      <td>20.5000</td>\n",
       "      <td>0.500000</td>\n",
       "      <td>0.817836</td>\n",
       "    </tr>\n",
       "    <tr>\n",
       "      <td>std</td>\n",
       "      <td>11.5449</td>\n",
       "      <td>11.5449</td>\n",
       "      <td>0.500065</td>\n",
       "      <td>1.076897</td>\n",
       "    </tr>\n",
       "    <tr>\n",
       "      <td>min</td>\n",
       "      <td>1.0000</td>\n",
       "      <td>1.0000</td>\n",
       "      <td>0.000000</td>\n",
       "      <td>0.040146</td>\n",
       "    </tr>\n",
       "    <tr>\n",
       "      <td>25%</td>\n",
       "      <td>10.7500</td>\n",
       "      <td>10.7500</td>\n",
       "      <td>0.000000</td>\n",
       "      <td>0.461054</td>\n",
       "    </tr>\n",
       "    <tr>\n",
       "      <td>50%</td>\n",
       "      <td>20.5000</td>\n",
       "      <td>20.5000</td>\n",
       "      <td>0.500000</td>\n",
       "      <td>0.594002</td>\n",
       "    </tr>\n",
       "    <tr>\n",
       "      <td>75%</td>\n",
       "      <td>30.2500</td>\n",
       "      <td>30.2500</td>\n",
       "      <td>1.000000</td>\n",
       "      <td>0.826665</td>\n",
       "    </tr>\n",
       "    <tr>\n",
       "      <td>max</td>\n",
       "      <td>40.0000</td>\n",
       "      <td>40.0000</td>\n",
       "      <td>1.000000</td>\n",
       "      <td>47.221504</td>\n",
       "    </tr>\n",
       "  </tbody>\n",
       "</table>\n",
       "</div>"
      ],
      "text/plain": [
       "            글자세트       그림세트          Set           RT\n",
       "count  3840.0000  3840.0000  3840.000000  3840.000000\n",
       "mean     20.5000    20.5000     0.500000     0.817836\n",
       "std      11.5449    11.5449     0.500065     1.076897\n",
       "min       1.0000     1.0000     0.000000     0.040146\n",
       "25%      10.7500    10.7500     0.000000     0.461054\n",
       "50%      20.5000    20.5000     0.500000     0.594002\n",
       "75%      30.2500    30.2500     1.000000     0.826665\n",
       "max      40.0000    40.0000     1.000000    47.221504"
      ]
     },
     "execution_count": 5,
     "metadata": {},
     "output_type": "execute_result"
    }
   ],
   "source": [
    "data.describe()"
   ]
  },
  {
   "cell_type": "code",
   "execution_count": 6,
   "metadata": {},
   "outputs": [
    {
     "data": {
      "text/html": [
       "<div>\n",
       "<style scoped>\n",
       "    .dataframe tbody tr th:only-of-type {\n",
       "        vertical-align: middle;\n",
       "    }\n",
       "\n",
       "    .dataframe tbody tr th {\n",
       "        vertical-align: top;\n",
       "    }\n",
       "\n",
       "    .dataframe thead th {\n",
       "        text-align: right;\n",
       "    }\n",
       "</style>\n",
       "<table border=\"1\" class=\"dataframe\">\n",
       "  <thead>\n",
       "    <tr style=\"text-align: right;\">\n",
       "      <th></th>\n",
       "      <th>글자세트</th>\n",
       "      <th>그림세트</th>\n",
       "      <th>Set</th>\n",
       "      <th>Relation</th>\n",
       "      <th>Response</th>\n",
       "      <th>RT</th>\n",
       "      <th>cr</th>\n",
       "    </tr>\n",
       "  </thead>\n",
       "  <tbody>\n",
       "    <tr>\n",
       "      <td>0</td>\n",
       "      <td>13</td>\n",
       "      <td>37</td>\n",
       "      <td>1</td>\n",
       "      <td>U</td>\n",
       "      <td>q</td>\n",
       "      <td>0.630571</td>\n",
       "      <td>1</td>\n",
       "    </tr>\n",
       "    <tr>\n",
       "      <td>1</td>\n",
       "      <td>36</td>\n",
       "      <td>7</td>\n",
       "      <td>0</td>\n",
       "      <td>U</td>\n",
       "      <td>r</td>\n",
       "      <td>47.221504</td>\n",
       "      <td>0</td>\n",
       "    </tr>\n",
       "    <tr>\n",
       "      <td>2</td>\n",
       "      <td>14</td>\n",
       "      <td>14</td>\n",
       "      <td>0</td>\n",
       "      <td>R</td>\n",
       "      <td>r</td>\n",
       "      <td>0.895417</td>\n",
       "      <td>1</td>\n",
       "    </tr>\n",
       "    <tr>\n",
       "      <td>3</td>\n",
       "      <td>4</td>\n",
       "      <td>4</td>\n",
       "      <td>1</td>\n",
       "      <td>R</td>\n",
       "      <td>r</td>\n",
       "      <td>0.511395</td>\n",
       "      <td>1</td>\n",
       "    </tr>\n",
       "    <tr>\n",
       "      <td>4</td>\n",
       "      <td>1</td>\n",
       "      <td>1</td>\n",
       "      <td>0</td>\n",
       "      <td>R</td>\n",
       "      <td>r</td>\n",
       "      <td>0.699193</td>\n",
       "      <td>1</td>\n",
       "    </tr>\n",
       "    <tr>\n",
       "      <td>...</td>\n",
       "      <td>...</td>\n",
       "      <td>...</td>\n",
       "      <td>...</td>\n",
       "      <td>...</td>\n",
       "      <td>...</td>\n",
       "      <td>...</td>\n",
       "      <td>...</td>\n",
       "    </tr>\n",
       "    <tr>\n",
       "      <td>3835</td>\n",
       "      <td>26</td>\n",
       "      <td>4</td>\n",
       "      <td>0</td>\n",
       "      <td>U</td>\n",
       "      <td>q</td>\n",
       "      <td>1.428068</td>\n",
       "      <td>1</td>\n",
       "    </tr>\n",
       "    <tr>\n",
       "      <td>3836</td>\n",
       "      <td>30</td>\n",
       "      <td>33</td>\n",
       "      <td>1</td>\n",
       "      <td>U</td>\n",
       "      <td>q</td>\n",
       "      <td>1.684731</td>\n",
       "      <td>1</td>\n",
       "    </tr>\n",
       "    <tr>\n",
       "      <td>3837</td>\n",
       "      <td>14</td>\n",
       "      <td>12</td>\n",
       "      <td>1</td>\n",
       "      <td>U</td>\n",
       "      <td>q</td>\n",
       "      <td>2.765056</td>\n",
       "      <td>1</td>\n",
       "    </tr>\n",
       "    <tr>\n",
       "      <td>3838</td>\n",
       "      <td>20</td>\n",
       "      <td>20</td>\n",
       "      <td>1</td>\n",
       "      <td>R</td>\n",
       "      <td>r</td>\n",
       "      <td>0.640602</td>\n",
       "      <td>1</td>\n",
       "    </tr>\n",
       "    <tr>\n",
       "      <td>3839</td>\n",
       "      <td>39</td>\n",
       "      <td>6</td>\n",
       "      <td>1</td>\n",
       "      <td>U</td>\n",
       "      <td>q</td>\n",
       "      <td>1.814428</td>\n",
       "      <td>1</td>\n",
       "    </tr>\n",
       "  </tbody>\n",
       "</table>\n",
       "<p>3840 rows × 7 columns</p>\n",
       "</div>"
      ],
      "text/plain": [
       "      글자세트  그림세트  Set Relation Response         RT  cr\n",
       "0       13    37    1        U        q   0.630571   1\n",
       "1       36     7    0        U        r  47.221504   0\n",
       "2       14    14    0        R        r   0.895417   1\n",
       "3        4     4    1        R        r   0.511395   1\n",
       "4        1     1    0        R        r   0.699193   1\n",
       "...    ...   ...  ...      ...      ...        ...  ..\n",
       "3835    26     4    0        U        q   1.428068   1\n",
       "3836    30    33    1        U        q   1.684731   1\n",
       "3837    14    12    1        U        q   2.765056   1\n",
       "3838    20    20    1        R        r   0.640602   1\n",
       "3839    39     6    1        U        q   1.814428   1\n",
       "\n",
       "[3840 rows x 7 columns]"
      ]
     },
     "execution_count": 6,
     "metadata": {},
     "output_type": "execute_result"
    }
   ],
   "source": [
    "data['cr']=data['Set']\n",
    "\n",
    "data.loc[(data[\"Relation\"] == \"U\") & (data[\"Response\"] == \"q\"), \"cr\"] = 1\n",
    "data.loc[(data[\"Relation\"] == \"U\") & (data[\"Response\"] == \"r\"), \"cr\"] = 0\n",
    "data.loc[(data[\"Relation\"] == \"R\") & (data[\"Response\"] == \"r\"), \"cr\"] = 1\n",
    "data.loc[(data[\"Relation\"] == \"R\") & (data[\"Response\"] == \"q\"), \"cr\"] = 0\n",
    "data"
   ]
  },
  {
   "cell_type": "code",
   "execution_count": 7,
   "metadata": {},
   "outputs": [
    {
     "data": {
      "text/plain": [
       "array([1, 0], dtype=int64)"
      ]
     },
     "execution_count": 7,
     "metadata": {},
     "output_type": "execute_result"
    }
   ],
   "source": [
    "data['cr'].unique()"
   ]
  },
  {
   "cell_type": "markdown",
   "metadata": {},
   "source": [
    "#  \n",
    "# Data preprocessing &remove outlyer"
   ]
  },
  {
   "cell_type": "code",
   "execution_count": 52,
   "metadata": {},
   "outputs": [
    {
     "data": {
      "text/plain": [
       "{'whiskers': [<matplotlib.lines.Line2D at 0x2523e3c7b88>,\n",
       "  <matplotlib.lines.Line2D at 0x2523e3c7cc8>],\n",
       " 'caps': [<matplotlib.lines.Line2D at 0x2523e3cab48>,\n",
       "  <matplotlib.lines.Line2D at 0x2523e3cac88>],\n",
       " 'boxes': [<matplotlib.lines.Line2D at 0x2523e3bffc8>],\n",
       " 'medians': [<matplotlib.lines.Line2D at 0x2523e3cfa08>],\n",
       " 'fliers': [<matplotlib.lines.Line2D at 0x2523e3cffc8>],\n",
       " 'means': []}"
      ]
     },
     "execution_count": 52,
     "metadata": {},
     "output_type": "execute_result"
    },
    {
     "data": {
      "image/png": "[encoded data removed]",
      "text/plain": [
       "<Figure size 432x288 with 1 Axes>"
      ]
     },
     "metadata": {
      "needs_background": "light"
     },
     "output_type": "display_data"
    }
   ],
   "source": [
    "set_0=data[data['Set']==0]\n",
    "set_0_RT=set_0[(set_0[\"RT\"]<1.09)&(set_0[\"RT\"]>0.041)]\n",
    "plt.boxplot(set_0_RT['RT'])"
   ]
  },
  {
   "cell_type": "code",
   "execution_count": 55,
   "metadata": {},
   "outputs": [
    {
     "data": {
      "text/plain": [
       "{'whiskers': [<matplotlib.lines.Line2D at 0x2523cfed848>,\n",
       "  <matplotlib.lines.Line2D at 0x2523cfed248>],\n",
       " 'caps': [<matplotlib.lines.Line2D at 0x2523cfed0c8>,\n",
       "  <matplotlib.lines.Line2D at 0x2523d2a1a88>],\n",
       " 'boxes': [<matplotlib.lines.Line2D at 0x2523d2b1688>],\n",
       " 'medians': [<matplotlib.lines.Line2D at 0x2523d2a1cc8>],\n",
       " 'fliers': [<matplotlib.lines.Line2D at 0x2523ca31d08>],\n",
       " 'means': []}"
      ]
     },
     "execution_count": 55,
     "metadata": {},
     "output_type": "execute_result"
    },
    {
     "data": {
      "image/png": "[encoded data removed]",
      "text/plain": [
       "<Figure size 432x288 with 1 Axes>"
      ]
     },
     "metadata": {
      "needs_background": "light"
     },
     "output_type": "display_data"
    }
   ],
   "source": [
    "set_1=data[data['Set']==1]\n",
    "set_1_RT=set_1[(set_1[\"RT\"]<1.04) & (set_1[\"RT\"]>0.000)]\n",
    "plt.boxplot(set_1_RT['RT'])"
   ]
  },
  {
   "cell_type": "markdown",
   "metadata": {},
   "source": [
    "#  \n",
    "# distplot (막대+선)\n",
    "\n",
    "# 정규분포(가우시안)를 따르면 좋다"
   ]
  },
  {
   "cell_type": "code",
   "execution_count": 30,
   "metadata": {},
   "outputs": [
    {
     "data": {
      "text/plain": [
       "<matplotlib.axes._subplots.AxesSubplot at 0x2523cc14088>"
      ]
     },
     "execution_count": 30,
     "metadata": {},
     "output_type": "execute_result"
    },
    {
     "data": {
      "image/png": "[encoded data removed]",
      "text/plain": [
       "<Figure size 432x288 with 1 Axes>"
      ]
     },
     "metadata": {
      "needs_background": "light"
     },
     "output_type": "display_data"
    }
   ],
   "source": [
    "sb.distplot(set_1_RT['RT'])"
   ]
  },
  {
   "cell_type": "code",
   "execution_count": 32,
   "metadata": {},
   "outputs": [
    {
     "data": {
      "text/plain": [
       "(1920, 7)"
      ]
     },
     "execution_count": 32,
     "metadata": {},
     "output_type": "execute_result"
    }
   ],
   "source": [
    "set_0.shape"
   ]
  },
  {
   "cell_type": "code",
   "execution_count": 33,
   "metadata": {},
   "outputs": [
    {
     "data": {
      "text/plain": [
       "(1920, 7)"
      ]
     },
     "execution_count": 33,
     "metadata": {},
     "output_type": "execute_result"
    }
   ],
   "source": [
    "set_1.shape"
   ]
  },
  {
   "cell_type": "markdown",
   "metadata": {},
   "source": [
    "\n",
    "# Creating mean vector lists"
   ]
  },
  {
   "cell_type": "code",
   "execution_count": 38,
   "metadata": {},
   "outputs": [
    {
     "data": {
      "text/plain": [
       "[0.6688407644067842,\n",
       " 0.6636833171864964,\n",
       " 0.705712554386082,\n",
       " 0.583099646478677,\n",
       " 0.47961268860755024,\n",
       " 0.4473845262501072,\n",
       " 0.6434180473685014,\n",
       " 0.5937835030303121,\n",
       " 0.5234324338025672,\n",
       " 0.6542473500000685,\n",
       " 0.5487422041102809,\n",
       " 0.6349103196973208,\n",
       " 0.5186148666667173,\n",
       " 0.5258815064102534,\n",
       " 0.6429930075471689,\n",
       " 0.6559792098039273,\n",
       " 0.5051909075001049,\n",
       " 0.5752098430554421,\n",
       " 0.6379943821918198,\n",
       " 0.4445430000000301,\n",
       " 0.6962275980768027,\n",
       " 0.6539820946674445,\n",
       " 0.6064279239997268,\n",
       " 0.6790903957394705]"
      ]
     },
     "execution_count": 38,
     "metadata": {},
     "output_type": "execute_result"
    }
   ],
   "source": [
    "mean_set0=[]\n",
    "cr_set0=[]\n",
    "for n in range(1,25):\n",
    "    tmp=set_0[80*(n-1):80*n]#bundle with outlyer\n",
    "    bundle=tmp[(tmp['RT']<1.09)&(tmp['RT']>0.041)]\n",
    "    mean=bundle['RT'].mean()\n",
    "    mean_set0.append(mean)\n",
    "    cr=bundle['cr'].sum()/len(bundle['RT'])\n",
    "    cr_set0.append(cr)\n",
    "\n",
    "mean_set0"
   ]
  },
  {
   "cell_type": "code",
   "execution_count": 39,
   "metadata": {},
   "outputs": [
    {
     "data": {
      "text/plain": [
       "[0.8813559322033898,\n",
       " 0.953125,\n",
       " 0.9473684210526315,\n",
       " 0.9295774647887324,\n",
       " 0.8860759493670886,\n",
       " 0.8375,\n",
       " 0.9473684210526315,\n",
       " 0.8787878787878788,\n",
       " 0.971830985915493,\n",
       " 0.8709677419354839,\n",
       " 0.9041095890410958,\n",
       " 0.9545454545454546,\n",
       " 0.8333333333333334,\n",
       " 0.9358974358974359,\n",
       " 0.9245283018867925,\n",
       " 1.0,\n",
       " 0.9125,\n",
       " 0.9861111111111112,\n",
       " 0.9452054794520548,\n",
       " 0.7162162162162162,\n",
       " 0.9423076923076923,\n",
       " 0.96,\n",
       " 0.9066666666666666,\n",
       " 0.9574468085106383]"
      ]
     },
     "execution_count": 39,
     "metadata": {},
     "output_type": "execute_result"
    }
   ],
   "source": [
    "cr_set0"
   ]
  },
  {
   "cell_type": "code",
   "execution_count": 41,
   "metadata": {},
   "outputs": [
    {
     "data": {
      "text/plain": [
       "[0.667349516129038,\n",
       " 0.6268441877200212,\n",
       " 0.6925040528301666,\n",
       " 0.5925445890407738,\n",
       " 0.45423002564110415,\n",
       " 0.4582940341772687,\n",
       " 0.631334398461555,\n",
       " 0.5615378465751734,\n",
       " 0.4953169506665048,\n",
       " 0.5782264238095238,\n",
       " 0.5125885589040492,\n",
       " 0.6088088031251573,\n",
       " 0.4963118444443353,\n",
       " 0.5076251675324662,\n",
       " 0.6041832937499976,\n",
       " 0.6938726607142931,\n",
       " 0.47985112500005017,\n",
       " 0.5928261358973638,\n",
       " 0.5972487666666539,\n",
       " 0.4583002364864582,\n",
       " 0.6547836538464673,\n",
       " 0.6480680166667951,\n",
       " 0.5973436619709721,\n",
       " 0.7007898800011025]"
      ]
     },
     "execution_count": 41,
     "metadata": {},
     "output_type": "execute_result"
    }
   ],
   "source": [
    "mean_set1=[]\n",
    "cr_set1=[]\n",
    "for n in range(1,25):\n",
    "    tmp=set_1[80*(n-1):80*n]#bundle with outlyer\n",
    "    bundle=tmp[(tmp['RT']<1.04)&(tmp['RT']>0.000)]\n",
    "    mean=bundle['RT'].mean()\n",
    "    mean_set1.append(mean)\n",
    "    cr=bundle['cr'].sum()/len(bundle['RT'])\n",
    "    cr_set1.append(cr)\n",
    "\n",
    "mean_set1"
   ]
  },
  {
   "cell_type": "code",
   "execution_count": 42,
   "metadata": {},
   "outputs": [
    {
     "data": {
      "text/plain": [
       "[0.9032258064516129,\n",
       " 0.9122807017543859,\n",
       " 0.9245283018867925,\n",
       " 0.9041095890410958,\n",
       " 0.8974358974358975,\n",
       " 0.8607594936708861,\n",
       " 0.9230769230769231,\n",
       " 0.8767123287671232,\n",
       " 0.88,\n",
       " 0.9047619047619048,\n",
       " 0.8082191780821918,\n",
       " 0.9375,\n",
       " 0.8194444444444444,\n",
       " 0.922077922077922,\n",
       " 0.9166666666666666,\n",
       " 0.9821428571428571,\n",
       " 0.975,\n",
       " 0.9871794871794872,\n",
       " 0.9166666666666666,\n",
       " 0.7972972972972973,\n",
       " 0.9384615384615385,\n",
       " 0.9487179487179487,\n",
       " 0.9295774647887324,\n",
       " 0.98]"
      ]
     },
     "execution_count": 42,
     "metadata": {},
     "output_type": "execute_result"
    }
   ],
   "source": [
    "cr_set1"
   ]
  },
  {
   "cell_type": "markdown",
   "metadata": {},
   "source": [
    "\n",
    "# Statistical Testing"
   ]
  },
  {
   "cell_type": "code",
   "execution_count": 44,
   "metadata": {
    "scrolled": true
   },
   "outputs": [
    {
     "data": {
      "text/plain": [
       "((array([-1.90380091, -1.48287381, -1.22601535, -1.03156092, -0.8698858 ,\n",
       "         -0.7282709 , -0.59996024, -0.48085763, -0.36822879, -0.26009875,\n",
       "         -0.154935  , -0.05146182,  0.05146182,  0.154935  ,  0.26009875,\n",
       "          0.36822879,  0.48085763,  0.59996024,  0.7282709 ,  0.8698858 ,\n",
       "          1.03156092,  1.22601535,  1.48287381,  1.90380091]),\n",
       "  array([0.45423003, 0.45829403, 0.45830024, 0.47985113, 0.49531695,\n",
       "         0.49631184, 0.50762517, 0.51258856, 0.56153785, 0.57822642,\n",
       "         0.59254459, 0.59282614, 0.59724877, 0.59734366, 0.60418329,\n",
       "         0.6088088 , 0.62684419, 0.6313344 , 0.64806802, 0.65478365,\n",
       "         0.66734952, 0.69250405, 0.69387266, 0.70078988])),\n",
       " (0.08109604954743153, 0.5796159929190537, 0.9758752553372757))"
      ]
     },
     "execution_count": 44,
     "metadata": {},
     "output_type": "execute_result"
    },
    {
     "data": {
      "image/png": "[encoded data removed]",
      "text/plain": [
       "<Figure size 864x432 with 4 Axes>"
      ]
     },
     "metadata": {
      "needs_background": "light"
     },
     "output_type": "display_data"
    }
   ],
   "source": [
    "from scipy.stats import probplot\n",
    "\n",
    "f, axes = plt.subplots(2,2, figsize=(12,6))\n",
    "\n",
    "sb.distplot(mean_set0, hist=False, ax=axes[0][0])\n",
    "probplot(mean_set0, plot=axes[1][0])\n",
    "\n",
    "sb.distplot(mean_set1, hist=False, ax=axes[0][1])\n",
    "probplot(mean_set1, plot=axes[1][1])"
   ]
  },
  {
   "cell_type": "code",
   "execution_count": 45,
   "metadata": {},
   "outputs": [],
   "source": [
    "import scipy"
   ]
  },
  {
   "cell_type": "code",
   "execution_count": 46,
   "metadata": {},
   "outputs": [
    {
     "name": "stdout",
     "output_type": "stream",
     "text": [
      "(0.8815567493438721, 0.008933120407164097)\n"
     ]
    }
   ],
   "source": [
    "print(scipy.stats.shapiro(cr_set0))"
   ]
  },
  {
   "cell_type": "code",
   "execution_count": 47,
   "metadata": {},
   "outputs": [
    {
     "name": "stdout",
     "output_type": "stream",
     "text": [
      "(0.9325231909751892, 0.11101386696100235)\n"
     ]
    }
   ],
   "source": [
    "print(scipy.stats.shapiro(cr_set1))"
   ]
  },
  {
   "cell_type": "code",
   "execution_count": 48,
   "metadata": {},
   "outputs": [
    {
     "name": "stdout",
     "output_type": "stream",
     "text": [
      "BartlettResult(statistic=0.8469915007810215, pvalue=0.3574048231284561)\n"
     ]
    }
   ],
   "source": [
    "print(scipy.stats.bartlett(cr_set0,cr_set1))"
   ]
  },
  {
   "cell_type": "code",
   "execution_count": 49,
   "metadata": {},
   "outputs": [
    {
     "data": {
      "text/plain": [
       "WilcoxonResult(statistic=100.0, pvalue=0.1531274510196695)"
      ]
     },
     "execution_count": 49,
     "metadata": {},
     "output_type": "execute_result"
    }
   ],
   "source": [
    "scipy.stats.wilcoxon(mean_set0, y=mean_set1, zero_method='wilcox',correction=False)"
   ]
  },
  {
   "cell_type": "code",
   "execution_count": 57,
   "metadata": {},
   "outputs": [
    {
     "name": "stdout",
     "output_type": "stream",
     "text": [
      "글 - 그림 세트의 평균 반응속도:  0.5872735107283166\n",
      "그림 - 글 세트의 평균 반응속도:  0.5796159929190537\n"
     ]
    }
   ],
   "source": [
    "import numpy as np\n",
    "print('글 - 그림 세트의 평균 반응속도: ',np.array(mean_set0).mean())\n",
    "print('그림 - 글 세트의 평균 반응속도: ',np.array(mean_set1).mean())"
   ]
  },
  {
   "cell_type": "code",
   "execution_count": 58,
   "metadata": {},
   "outputs": [
    {
     "name": "stdout",
     "output_type": "stream",
     "text": [
      "글 - 그림 세트의 평균 정답률:  0.9148924691118948\n",
      "그림 - 글 세트의 평균 정답률:  0.9102434340988491\n"
     ]
    }
   ],
   "source": [
    "print('글 - 그림 세트의 평균 정답률: ',np.array(cr_set0).mean())\n",
    "print('그림 - 글 세트의 평균 정답률: ',np.array(cr_set1).mean())"
   ]
  },
  {
   "cell_type": "code",
   "execution_count": 59,
   "metadata": {},
   "outputs": [
    {
     "data": {
      "text/plain": [
       "Ttest_relResult(statistic=1.4285162849761979, pvalue=0.16658364805923845)"
      ]
     },
     "execution_count": 59,
     "metadata": {},
     "output_type": "execute_result"
    }
   ],
   "source": [
    "scipy.stats.ttest_rel(mean_set0, mean_set1, axis=0, nan_policy='propagate')"
   ]
  },
  {
   "cell_type": "code",
   "execution_count": null,
   "metadata": {},
   "outputs": [],
   "source": []
  }
 ],
 "metadata": {
  "kernelspec": {
   "display_name": "Python 3",
   "language": "python",
   "name": "python3"
  },
  "language_info": {
   "codemirror_mode": {
    "name": "ipython",
    "version": 3
   },
   "file_extension": ".py",
   "mimetype": "text/x-python",
   "name": "python",
   "nbconvert_exporter": "python",
   "pygments_lexer": "ipython3",
   "version": "3.7.4"
  }
 },
 "nbformat": 4,
 "nbformat_minor": 2
}
