{
 "cells": [
  {
   "cell_type": "code",
   "execution_count": 3,
   "metadata": {},
   "outputs": [],
   "source": [
    "import pandas as pd\n",
    "%matplotlib inline\n",
    "import seaborn as sns\n",
    "import matplotlib.pyplot as plt"
   ]
  },
  {
   "cell_type": "code",
   "execution_count": 4,
   "metadata": {
    "scrolled": true
   },
   "outputs": [],
   "source": [
    "data = pd.read_excel(\"C:/Users/User/DOCUME~1/카카오~1/DATA(E~1/Easy1.xlsx\",header=0, names=['글자세트','그림세트','Set','Relation','Response','RT'])"
   ]
  },
  {
   "cell_type": "code",
   "execution_count": 21,
   "metadata": {},
   "outputs": [
    {
     "data": {
      "text/html": [
       "<div>\n",
       "<style scoped>\n",
       "    .dataframe tbody tr th:only-of-type {\n",
       "        vertical-align: middle;\n",
       "    }\n",
       "\n",
       "    .dataframe tbody tr th {\n",
       "        vertical-align: top;\n",
       "    }\n",
       "\n",
       "    .dataframe thead th {\n",
       "        text-align: right;\n",
       "    }\n",
       "</style>\n",
       "<table border=\"1\" class=\"dataframe\">\n",
       "  <thead>\n",
       "    <tr style=\"text-align: right;\">\n",
       "      <th></th>\n",
       "      <th>글자세트</th>\n",
       "      <th>그림세트</th>\n",
       "      <th>Set</th>\n",
       "      <th>Relation</th>\n",
       "      <th>Response</th>\n",
       "      <th>RT</th>\n",
       "    </tr>\n",
       "  </thead>\n",
       "  <tbody>\n",
       "    <tr>\n",
       "      <td>0</td>\n",
       "      <td>3</td>\n",
       "      <td>22</td>\n",
       "      <td>1</td>\n",
       "      <td>U</td>\n",
       "      <td>q</td>\n",
       "      <td>2.791737</td>\n",
       "    </tr>\n",
       "    <tr>\n",
       "      <td>1</td>\n",
       "      <td>19</td>\n",
       "      <td>19</td>\n",
       "      <td>0</td>\n",
       "      <td>R</td>\n",
       "      <td>r</td>\n",
       "      <td>0.831410</td>\n",
       "    </tr>\n",
       "    <tr>\n",
       "      <td>2</td>\n",
       "      <td>14</td>\n",
       "      <td>28</td>\n",
       "      <td>0</td>\n",
       "      <td>U</td>\n",
       "      <td>q</td>\n",
       "      <td>0.712592</td>\n",
       "    </tr>\n",
       "    <tr>\n",
       "      <td>3</td>\n",
       "      <td>15</td>\n",
       "      <td>17</td>\n",
       "      <td>0</td>\n",
       "      <td>U</td>\n",
       "      <td>q</td>\n",
       "      <td>0.635951</td>\n",
       "    </tr>\n",
       "    <tr>\n",
       "      <td>4</td>\n",
       "      <td>32</td>\n",
       "      <td>4</td>\n",
       "      <td>1</td>\n",
       "      <td>U</td>\n",
       "      <td>q</td>\n",
       "      <td>1.309636</td>\n",
       "    </tr>\n",
       "  </tbody>\n",
       "</table>\n",
       "</div>"
      ],
      "text/plain": [
       "   글자세트  그림세트  Set Relation Response        RT\n",
       "0     3    22    1        U        q  2.791737\n",
       "1    19    19    0        R        r  0.831410\n",
       "2    14    28    0        U        q  0.712592\n",
       "3    15    17    0        U        q  0.635951\n",
       "4    32     4    1        U        q  1.309636"
      ]
     },
     "execution_count": 21,
     "metadata": {},
     "output_type": "execute_result"
    }
   ],
   "source": [
    "data.head()"
   ]
  },
  {
   "cell_type": "code",
   "execution_count": 22,
   "metadata": {},
   "outputs": [
    {
     "data": {
      "text/plain": [
       "(3840, 6)"
      ]
     },
     "execution_count": 22,
     "metadata": {},
     "output_type": "execute_result"
    }
   ],
   "source": [
    "data.shape"
   ]
  },
  {
   "cell_type": "code",
   "execution_count": 23,
   "metadata": {},
   "outputs": [
    {
     "data": {
      "text/html": [
       "<div>\n",
       "<style scoped>\n",
       "    .dataframe tbody tr th:only-of-type {\n",
       "        vertical-align: middle;\n",
       "    }\n",
       "\n",
       "    .dataframe tbody tr th {\n",
       "        vertical-align: top;\n",
       "    }\n",
       "\n",
       "    .dataframe thead th {\n",
       "        text-align: right;\n",
       "    }\n",
       "</style>\n",
       "<table border=\"1\" class=\"dataframe\">\n",
       "  <thead>\n",
       "    <tr style=\"text-align: right;\">\n",
       "      <th></th>\n",
       "      <th>글자세트</th>\n",
       "      <th>그림세트</th>\n",
       "      <th>Set</th>\n",
       "      <th>RT</th>\n",
       "    </tr>\n",
       "  </thead>\n",
       "  <tbody>\n",
       "    <tr>\n",
       "      <td>count</td>\n",
       "      <td>3840.0000</td>\n",
       "      <td>3840.0000</td>\n",
       "      <td>3840.000000</td>\n",
       "      <td>3840.000000</td>\n",
       "    </tr>\n",
       "    <tr>\n",
       "      <td>mean</td>\n",
       "      <td>20.5000</td>\n",
       "      <td>20.5000</td>\n",
       "      <td>0.500000</td>\n",
       "      <td>0.706402</td>\n",
       "    </tr>\n",
       "    <tr>\n",
       "      <td>std</td>\n",
       "      <td>11.5449</td>\n",
       "      <td>11.5449</td>\n",
       "      <td>0.500065</td>\n",
       "      <td>0.791374</td>\n",
       "    </tr>\n",
       "    <tr>\n",
       "      <td>min</td>\n",
       "      <td>1.0000</td>\n",
       "      <td>1.0000</td>\n",
       "      <td>0.000000</td>\n",
       "      <td>0.031581</td>\n",
       "    </tr>\n",
       "    <tr>\n",
       "      <td>25%</td>\n",
       "      <td>10.7500</td>\n",
       "      <td>10.7500</td>\n",
       "      <td>0.000000</td>\n",
       "      <td>0.414778</td>\n",
       "    </tr>\n",
       "    <tr>\n",
       "      <td>50%</td>\n",
       "      <td>20.5000</td>\n",
       "      <td>20.5000</td>\n",
       "      <td>0.500000</td>\n",
       "      <td>0.532523</td>\n",
       "    </tr>\n",
       "    <tr>\n",
       "      <td>75%</td>\n",
       "      <td>30.2500</td>\n",
       "      <td>30.2500</td>\n",
       "      <td>1.000000</td>\n",
       "      <td>0.727027</td>\n",
       "    </tr>\n",
       "    <tr>\n",
       "      <td>max</td>\n",
       "      <td>40.0000</td>\n",
       "      <td>40.0000</td>\n",
       "      <td>1.000000</td>\n",
       "      <td>20.386082</td>\n",
       "    </tr>\n",
       "  </tbody>\n",
       "</table>\n",
       "</div>"
      ],
      "text/plain": [
       "            글자세트       그림세트          Set           RT\n",
       "count  3840.0000  3840.0000  3840.000000  3840.000000\n",
       "mean     20.5000    20.5000     0.500000     0.706402\n",
       "std      11.5449    11.5449     0.500065     0.791374\n",
       "min       1.0000     1.0000     0.000000     0.031581\n",
       "25%      10.7500    10.7500     0.000000     0.414778\n",
       "50%      20.5000    20.5000     0.500000     0.532523\n",
       "75%      30.2500    30.2500     1.000000     0.727027\n",
       "max      40.0000    40.0000     1.000000    20.386082"
      ]
     },
     "execution_count": 23,
     "metadata": {},
     "output_type": "execute_result"
    }
   ],
   "source": [
    "data.describe()"
   ]
  },
  {
   "cell_type": "code",
   "execution_count": 27,
   "metadata": {},
   "outputs": [
    {
     "data": {
      "text/html": [
       "<div>\n",
       "<style scoped>\n",
       "    .dataframe tbody tr th:only-of-type {\n",
       "        vertical-align: middle;\n",
       "    }\n",
       "\n",
       "    .dataframe tbody tr th {\n",
       "        vertical-align: top;\n",
       "    }\n",
       "\n",
       "    .dataframe thead th {\n",
       "        text-align: right;\n",
       "    }\n",
       "</style>\n",
       "<table border=\"1\" class=\"dataframe\">\n",
       "  <thead>\n",
       "    <tr style=\"text-align: right;\">\n",
       "      <th></th>\n",
       "      <th>글자세트</th>\n",
       "      <th>그림세트</th>\n",
       "      <th>Set</th>\n",
       "      <th>Relation</th>\n",
       "      <th>Response</th>\n",
       "      <th>RT</th>\n",
       "      <th>cr</th>\n",
       "    </tr>\n",
       "  </thead>\n",
       "  <tbody>\n",
       "    <tr>\n",
       "      <td>0</td>\n",
       "      <td>3</td>\n",
       "      <td>22</td>\n",
       "      <td>1</td>\n",
       "      <td>U</td>\n",
       "      <td>q</td>\n",
       "      <td>2.791737</td>\n",
       "      <td>1</td>\n",
       "    </tr>\n",
       "    <tr>\n",
       "      <td>1</td>\n",
       "      <td>19</td>\n",
       "      <td>19</td>\n",
       "      <td>0</td>\n",
       "      <td>R</td>\n",
       "      <td>r</td>\n",
       "      <td>0.831410</td>\n",
       "      <td>1</td>\n",
       "    </tr>\n",
       "    <tr>\n",
       "      <td>2</td>\n",
       "      <td>14</td>\n",
       "      <td>28</td>\n",
       "      <td>0</td>\n",
       "      <td>U</td>\n",
       "      <td>q</td>\n",
       "      <td>0.712592</td>\n",
       "      <td>1</td>\n",
       "    </tr>\n",
       "    <tr>\n",
       "      <td>3</td>\n",
       "      <td>15</td>\n",
       "      <td>17</td>\n",
       "      <td>0</td>\n",
       "      <td>U</td>\n",
       "      <td>q</td>\n",
       "      <td>0.635951</td>\n",
       "      <td>1</td>\n",
       "    </tr>\n",
       "    <tr>\n",
       "      <td>4</td>\n",
       "      <td>32</td>\n",
       "      <td>4</td>\n",
       "      <td>1</td>\n",
       "      <td>U</td>\n",
       "      <td>q</td>\n",
       "      <td>1.309636</td>\n",
       "      <td>1</td>\n",
       "    </tr>\n",
       "    <tr>\n",
       "      <td>...</td>\n",
       "      <td>...</td>\n",
       "      <td>...</td>\n",
       "      <td>...</td>\n",
       "      <td>...</td>\n",
       "      <td>...</td>\n",
       "      <td>...</td>\n",
       "      <td>...</td>\n",
       "    </tr>\n",
       "    <tr>\n",
       "      <td>3835</td>\n",
       "      <td>8</td>\n",
       "      <td>16</td>\n",
       "      <td>0</td>\n",
       "      <td>U</td>\n",
       "      <td>q</td>\n",
       "      <td>1.221308</td>\n",
       "      <td>1</td>\n",
       "    </tr>\n",
       "    <tr>\n",
       "      <td>3836</td>\n",
       "      <td>26</td>\n",
       "      <td>26</td>\n",
       "      <td>1</td>\n",
       "      <td>R</td>\n",
       "      <td>r</td>\n",
       "      <td>1.360994</td>\n",
       "      <td>1</td>\n",
       "    </tr>\n",
       "    <tr>\n",
       "      <td>3837</td>\n",
       "      <td>17</td>\n",
       "      <td>17</td>\n",
       "      <td>1</td>\n",
       "      <td>R</td>\n",
       "      <td>r</td>\n",
       "      <td>0.400084</td>\n",
       "      <td>1</td>\n",
       "    </tr>\n",
       "    <tr>\n",
       "      <td>3838</td>\n",
       "      <td>2</td>\n",
       "      <td>40</td>\n",
       "      <td>1</td>\n",
       "      <td>U</td>\n",
       "      <td>q</td>\n",
       "      <td>0.526769</td>\n",
       "      <td>1</td>\n",
       "    </tr>\n",
       "    <tr>\n",
       "      <td>3839</td>\n",
       "      <td>38</td>\n",
       "      <td>38</td>\n",
       "      <td>0</td>\n",
       "      <td>R</td>\n",
       "      <td>r</td>\n",
       "      <td>1.222779</td>\n",
       "      <td>1</td>\n",
       "    </tr>\n",
       "  </tbody>\n",
       "</table>\n",
       "<p>3840 rows × 7 columns</p>\n",
       "</div>"
      ],
      "text/plain": [
       "      글자세트  그림세트  Set Relation Response        RT  cr\n",
       "0        3    22    1        U        q  2.791737   1\n",
       "1       19    19    0        R        r  0.831410   1\n",
       "2       14    28    0        U        q  0.712592   1\n",
       "3       15    17    0        U        q  0.635951   1\n",
       "4       32     4    1        U        q  1.309636   1\n",
       "...    ...   ...  ...      ...      ...       ...  ..\n",
       "3835     8    16    0        U        q  1.221308   1\n",
       "3836    26    26    1        R        r  1.360994   1\n",
       "3837    17    17    1        R        r  0.400084   1\n",
       "3838     2    40    1        U        q  0.526769   1\n",
       "3839    38    38    0        R        r  1.222779   1\n",
       "\n",
       "[3840 rows x 7 columns]"
      ]
     },
     "execution_count": 27,
     "metadata": {},
     "output_type": "execute_result"
    }
   ],
   "source": [
    "data['cr'] = data['Set']\n",
    "\n",
    "data.loc[(data[\"Relation\"] == \"U\") & (data[\"Response\"] == \"q\"), \"cr\"] = 1\n",
    "data.loc[(data[\"Relation\"] == \"U\") & (data[\"Response\"] == \"r\"), \"cr\"] = 0\n",
    "data.loc[(data[\"Relation\"] == \"R\") & (data[\"Response\"] == \"r\"), \"cr\"] = 1\n",
    "data.loc[(data[\"Relation\"] == \"R\") & (data[\"Response\"] == \"q\"), \"cr\"] = 0\n",
    "data"
   ]
  },
  {
   "cell_type": "code",
   "execution_count": 30,
   "metadata": {},
   "outputs": [
    {
     "data": {
      "text/plain": [
       "(3840, 7)"
      ]
     },
     "execution_count": 30,
     "metadata": {},
     "output_type": "execute_result"
    }
   ],
   "source": [
    "data.shape"
   ]
  },
  {
   "cell_type": "code",
   "execution_count": 28,
   "metadata": {},
   "outputs": [
    {
     "data": {
      "text/plain": [
       "array([1, 0], dtype=int64)"
      ]
     },
     "execution_count": 28,
     "metadata": {},
     "output_type": "execute_result"
    }
   ],
   "source": [
    "data['cr'].unique()"
   ]
  },
  {
   "cell_type": "code",
   "execution_count": 26,
   "metadata": {},
   "outputs": [
    {
     "data": {
      "text/html": [
       "<div>\n",
       "<style scoped>\n",
       "    .dataframe tbody tr th:only-of-type {\n",
       "        vertical-align: middle;\n",
       "    }\n",
       "\n",
       "    .dataframe tbody tr th {\n",
       "        vertical-align: top;\n",
       "    }\n",
       "\n",
       "    .dataframe thead th {\n",
       "        text-align: right;\n",
       "    }\n",
       "</style>\n",
       "<table border=\"1\" class=\"dataframe\">\n",
       "  <thead>\n",
       "    <tr style=\"text-align: right;\">\n",
       "      <th></th>\n",
       "      <th>글자세트</th>\n",
       "      <th>그림세트</th>\n",
       "      <th>Set</th>\n",
       "      <th>Relation</th>\n",
       "      <th>Response</th>\n",
       "      <th>RT</th>\n",
       "      <th>cr</th>\n",
       "    </tr>\n",
       "  </thead>\n",
       "  <tbody>\n",
       "    <tr>\n",
       "      <td>98</td>\n",
       "      <td>17</td>\n",
       "      <td>17</td>\n",
       "      <td>0</td>\n",
       "      <td>R</td>\n",
       "      <td>q</td>\n",
       "      <td>1.197526</td>\n",
       "      <td>0</td>\n",
       "    </tr>\n",
       "    <tr>\n",
       "      <td>155</td>\n",
       "      <td>8</td>\n",
       "      <td>16</td>\n",
       "      <td>0</td>\n",
       "      <td>U</td>\n",
       "      <td>r</td>\n",
       "      <td>2.248917</td>\n",
       "      <td>0</td>\n",
       "    </tr>\n",
       "    <tr>\n",
       "      <td>164</td>\n",
       "      <td>32</td>\n",
       "      <td>4</td>\n",
       "      <td>1</td>\n",
       "      <td>U</td>\n",
       "      <td>r</td>\n",
       "      <td>0.949666</td>\n",
       "      <td>0</td>\n",
       "    </tr>\n",
       "    <tr>\n",
       "      <td>179</td>\n",
       "      <td>6</td>\n",
       "      <td>6</td>\n",
       "      <td>0</td>\n",
       "      <td>R</td>\n",
       "      <td>q</td>\n",
       "      <td>2.422046</td>\n",
       "      <td>0</td>\n",
       "    </tr>\n",
       "    <tr>\n",
       "      <td>223</td>\n",
       "      <td>39</td>\n",
       "      <td>10</td>\n",
       "      <td>1</td>\n",
       "      <td>U</td>\n",
       "      <td>r</td>\n",
       "      <td>0.528438</td>\n",
       "      <td>0</td>\n",
       "    </tr>\n",
       "    <tr>\n",
       "      <td>...</td>\n",
       "      <td>...</td>\n",
       "      <td>...</td>\n",
       "      <td>...</td>\n",
       "      <td>...</td>\n",
       "      <td>...</td>\n",
       "      <td>...</td>\n",
       "      <td>...</td>\n",
       "    </tr>\n",
       "    <tr>\n",
       "      <td>3699</td>\n",
       "      <td>6</td>\n",
       "      <td>6</td>\n",
       "      <td>0</td>\n",
       "      <td>R</td>\n",
       "      <td>q</td>\n",
       "      <td>3.040416</td>\n",
       "      <td>0</td>\n",
       "    </tr>\n",
       "    <tr>\n",
       "      <td>3786</td>\n",
       "      <td>28</td>\n",
       "      <td>1</td>\n",
       "      <td>0</td>\n",
       "      <td>U</td>\n",
       "      <td>r</td>\n",
       "      <td>0.710098</td>\n",
       "      <td>0</td>\n",
       "    </tr>\n",
       "    <tr>\n",
       "      <td>3787</td>\n",
       "      <td>8</td>\n",
       "      <td>8</td>\n",
       "      <td>1</td>\n",
       "      <td>R</td>\n",
       "      <td>q</td>\n",
       "      <td>0.917642</td>\n",
       "      <td>0</td>\n",
       "    </tr>\n",
       "    <tr>\n",
       "      <td>3803</td>\n",
       "      <td>7</td>\n",
       "      <td>7</td>\n",
       "      <td>0</td>\n",
       "      <td>R</td>\n",
       "      <td>q</td>\n",
       "      <td>0.663720</td>\n",
       "      <td>0</td>\n",
       "    </tr>\n",
       "    <tr>\n",
       "      <td>3830</td>\n",
       "      <td>35</td>\n",
       "      <td>35</td>\n",
       "      <td>1</td>\n",
       "      <td>R</td>\n",
       "      <td>q</td>\n",
       "      <td>0.589923</td>\n",
       "      <td>0</td>\n",
       "    </tr>\n",
       "  </tbody>\n",
       "</table>\n",
       "<p>171 rows × 7 columns</p>\n",
       "</div>"
      ],
      "text/plain": [
       "      글자세트  그림세트  Set Relation Response        RT  cr\n",
       "98      17    17    0        R        q  1.197526   0\n",
       "155      8    16    0        U        r  2.248917   0\n",
       "164     32     4    1        U        r  0.949666   0\n",
       "179      6     6    0        R        q  2.422046   0\n",
       "223     39    10    1        U        r  0.528438   0\n",
       "...    ...   ...  ...      ...      ...       ...  ..\n",
       "3699     6     6    0        R        q  3.040416   0\n",
       "3786    28     1    0        U        r  0.710098   0\n",
       "3787     8     8    1        R        q  0.917642   0\n",
       "3803     7     7    0        R        q  0.663720   0\n",
       "3830    35    35    1        R        q  0.589923   0\n",
       "\n",
       "[171 rows x 7 columns]"
      ]
     },
     "execution_count": 26,
     "metadata": {},
     "output_type": "execute_result"
    }
   ],
   "source": [
    "data[data['cr']==0]"
   ]
  },
  {
   "cell_type": "markdown",
   "metadata": {},
   "source": [
    "#  \n",
    "# Data preprocessing"
   ]
  },
  {
   "cell_type": "code",
   "execution_count": 95,
   "metadata": {},
   "outputs": [
    {
     "data": {
      "text/plain": [
       "{'whiskers': [<matplotlib.lines.Line2D at 0x2886a5abdc8>,\n",
       "  <matplotlib.lines.Line2D at 0x2886a5abec8>],\n",
       " 'caps': [<matplotlib.lines.Line2D at 0x2886a5aed08>,\n",
       "  <matplotlib.lines.Line2D at 0x2886a5aee08>],\n",
       " 'boxes': [<matplotlib.lines.Line2D at 0x2886a5ab308>],\n",
       " 'medians': [<matplotlib.lines.Line2D at 0x2886a5b4c88>],\n",
       " 'fliers': [<matplotlib.lines.Line2D at 0x2886a5b4d88>],\n",
       " 'means': []}"
      ]
     },
     "execution_count": 95,
     "metadata": {},
     "output_type": "execute_result"
    },
    {
     "data": {
      "image/png": "[encoded data removed]",
      "text/plain": [
       "<Figure size 432x288 with 1 Axes>"
      ]
     },
     "metadata": {
      "needs_background": "light"
     },
     "output_type": "display_data"
    }
   ],
   "source": [
    "set_0 = data[data['Set']==0]\n",
    "set_0_RT=set_0[(set_0[\"RT\"] < 0.998) & (set_0[\"RT\"]>0.0426)]\n",
    "plt.boxplot(set_0_RT['RT']) \n",
    "#outlyer 이상치"
   ]
  },
  {
   "cell_type": "code",
   "execution_count": 96,
   "metadata": {},
   "outputs": [
    {
     "data": {
      "text/plain": [
       "{'whiskers': [<matplotlib.lines.Line2D at 0x28869481588>,\n",
       "  <matplotlib.lines.Line2D at 0x28869481d48>],\n",
       " 'caps': [<matplotlib.lines.Line2D at 0x28869481e48>,\n",
       "  <matplotlib.lines.Line2D at 0x28869485cc8>],\n",
       " 'boxes': [<matplotlib.lines.Line2D at 0x2886947ba48>],\n",
       " 'medians': [<matplotlib.lines.Line2D at 0x28869485dc8>],\n",
       " 'fliers': [<matplotlib.lines.Line2D at 0x2886948ac48>],\n",
       " 'means': []}"
      ]
     },
     "execution_count": 96,
     "metadata": {},
     "output_type": "execute_result"
    },
    {
     "data": {
      "image/png": "[encoded data removed]",
      "text/plain": [
       "<Figure size 432x288 with 1 Axes>"
      ]
     },
     "metadata": {
      "needs_background": "light"
     },
     "output_type": "display_data"
    }
   ],
   "source": [
    "set_1 = data[data['Set']==1]\n",
    "set_1_RT=set_1[(set_1[\"RT\"] < 0.925) & (set_1[\"RT\"]>0.032)]\n",
    "plt.boxplot(set_1_RT['RT'])"
   ]
  },
  {
   "cell_type": "code",
   "execution_count": 97,
   "metadata": {},
   "outputs": [
    {
     "data": {
      "text/plain": [
       "<matplotlib.axes._subplots.AxesSubplot at 0x288694b3d48>"
      ]
     },
     "execution_count": 97,
     "metadata": {},
     "output_type": "execute_result"
    },
    {
     "data": {
      "image/png": "[encoded data removed]",
      "text/plain": [
       "<Figure size 432x288 with 1 Axes>"
      ]
     },
     "metadata": {
      "needs_background": "light"
     },
     "output_type": "display_data"
    }
   ],
   "source": [
    "sns.distplot(set_1_RT['RT'])"
   ]
  },
  {
   "cell_type": "markdown",
   "metadata": {},
   "source": [
    "#  \n",
    "# Dividing the Data Frame"
   ]
  },
  {
   "cell_type": "code",
   "execution_count": 98,
   "metadata": {},
   "outputs": [
    {
     "data": {
      "text/plain": [
       "(1920, 7)"
      ]
     },
     "execution_count": 98,
     "metadata": {},
     "output_type": "execute_result"
    }
   ],
   "source": [
    "set_0.shape"
   ]
  },
  {
   "cell_type": "code",
   "execution_count": 99,
   "metadata": {},
   "outputs": [
    {
     "data": {
      "text/plain": [
       "(1920, 7)"
      ]
     },
     "execution_count": 99,
     "metadata": {},
     "output_type": "execute_result"
    }
   ],
   "source": [
    "set_1.shape"
   ]
  },
  {
   "cell_type": "markdown",
   "metadata": {},
   "source": [
    "#  \n",
    "# Creating mean vector lists"
   ]
  },
  {
   "cell_type": "code",
   "execution_count": 100,
   "metadata": {},
   "outputs": [
    {
     "data": {
      "text/html": [
       "<div>\n",
       "<style scoped>\n",
       "    .dataframe tbody tr th:only-of-type {\n",
       "        vertical-align: middle;\n",
       "    }\n",
       "\n",
       "    .dataframe tbody tr th {\n",
       "        vertical-align: top;\n",
       "    }\n",
       "\n",
       "    .dataframe thead th {\n",
       "        text-align: right;\n",
       "    }\n",
       "</style>\n",
       "<table border=\"1\" class=\"dataframe\">\n",
       "  <thead>\n",
       "    <tr style=\"text-align: right;\">\n",
       "      <th></th>\n",
       "      <th>글자세트</th>\n",
       "      <th>그림세트</th>\n",
       "      <th>Set</th>\n",
       "      <th>Relation</th>\n",
       "      <th>Response</th>\n",
       "      <th>RT</th>\n",
       "      <th>cr</th>\n",
       "    </tr>\n",
       "  </thead>\n",
       "  <tbody>\n",
       "    <tr>\n",
       "      <td>0</td>\n",
       "      <td>3</td>\n",
       "      <td>22</td>\n",
       "      <td>1</td>\n",
       "      <td>U</td>\n",
       "      <td>q</td>\n",
       "      <td>2.791737</td>\n",
       "      <td>1</td>\n",
       "    </tr>\n",
       "    <tr>\n",
       "      <td>1</td>\n",
       "      <td>19</td>\n",
       "      <td>19</td>\n",
       "      <td>0</td>\n",
       "      <td>R</td>\n",
       "      <td>r</td>\n",
       "      <td>0.831410</td>\n",
       "      <td>1</td>\n",
       "    </tr>\n",
       "    <tr>\n",
       "      <td>2</td>\n",
       "      <td>14</td>\n",
       "      <td>28</td>\n",
       "      <td>0</td>\n",
       "      <td>U</td>\n",
       "      <td>q</td>\n",
       "      <td>0.712592</td>\n",
       "      <td>1</td>\n",
       "    </tr>\n",
       "    <tr>\n",
       "      <td>3</td>\n",
       "      <td>15</td>\n",
       "      <td>17</td>\n",
       "      <td>0</td>\n",
       "      <td>U</td>\n",
       "      <td>q</td>\n",
       "      <td>0.635951</td>\n",
       "      <td>1</td>\n",
       "    </tr>\n",
       "    <tr>\n",
       "      <td>4</td>\n",
       "      <td>32</td>\n",
       "      <td>4</td>\n",
       "      <td>1</td>\n",
       "      <td>U</td>\n",
       "      <td>q</td>\n",
       "      <td>1.309636</td>\n",
       "      <td>1</td>\n",
       "    </tr>\n",
       "    <tr>\n",
       "      <td>...</td>\n",
       "      <td>...</td>\n",
       "      <td>...</td>\n",
       "      <td>...</td>\n",
       "      <td>...</td>\n",
       "      <td>...</td>\n",
       "      <td>...</td>\n",
       "      <td>...</td>\n",
       "    </tr>\n",
       "    <tr>\n",
       "      <td>3835</td>\n",
       "      <td>8</td>\n",
       "      <td>16</td>\n",
       "      <td>0</td>\n",
       "      <td>U</td>\n",
       "      <td>q</td>\n",
       "      <td>1.221308</td>\n",
       "      <td>1</td>\n",
       "    </tr>\n",
       "    <tr>\n",
       "      <td>3836</td>\n",
       "      <td>26</td>\n",
       "      <td>26</td>\n",
       "      <td>1</td>\n",
       "      <td>R</td>\n",
       "      <td>r</td>\n",
       "      <td>1.360994</td>\n",
       "      <td>1</td>\n",
       "    </tr>\n",
       "    <tr>\n",
       "      <td>3837</td>\n",
       "      <td>17</td>\n",
       "      <td>17</td>\n",
       "      <td>1</td>\n",
       "      <td>R</td>\n",
       "      <td>r</td>\n",
       "      <td>0.400084</td>\n",
       "      <td>1</td>\n",
       "    </tr>\n",
       "    <tr>\n",
       "      <td>3838</td>\n",
       "      <td>2</td>\n",
       "      <td>40</td>\n",
       "      <td>1</td>\n",
       "      <td>U</td>\n",
       "      <td>q</td>\n",
       "      <td>0.526769</td>\n",
       "      <td>1</td>\n",
       "    </tr>\n",
       "    <tr>\n",
       "      <td>3839</td>\n",
       "      <td>38</td>\n",
       "      <td>38</td>\n",
       "      <td>0</td>\n",
       "      <td>R</td>\n",
       "      <td>r</td>\n",
       "      <td>1.222779</td>\n",
       "      <td>1</td>\n",
       "    </tr>\n",
       "  </tbody>\n",
       "</table>\n",
       "<p>3840 rows × 7 columns</p>\n",
       "</div>"
      ],
      "text/plain": [
       "      글자세트  그림세트  Set Relation Response        RT  cr\n",
       "0        3    22    1        U        q  2.791737   1\n",
       "1       19    19    0        R        r  0.831410   1\n",
       "2       14    28    0        U        q  0.712592   1\n",
       "3       15    17    0        U        q  0.635951   1\n",
       "4       32     4    1        U        q  1.309636   1\n",
       "...    ...   ...  ...      ...      ...       ...  ..\n",
       "3835     8    16    0        U        q  1.221308   1\n",
       "3836    26    26    1        R        r  1.360994   1\n",
       "3837    17    17    1        R        r  0.400084   1\n",
       "3838     2    40    1        U        q  0.526769   1\n",
       "3839    38    38    0        R        r  1.222779   1\n",
       "\n",
       "[3840 rows x 7 columns]"
      ]
     },
     "execution_count": 100,
     "metadata": {},
     "output_type": "execute_result"
    }
   ],
   "source": [
    "data"
   ]
  },
  {
   "cell_type": "code",
   "execution_count": 109,
   "metadata": {},
   "outputs": [
    {
     "data": {
      "text/plain": [
       "[0.6371286140350876,\n",
       " 0.6800853771927537,\n",
       " 0.6233623347826205,\n",
       " 0.4862933106663695,\n",
       " 0.3292764075950235,\n",
       " 0.43107498500003205,\n",
       " 0.5050082960003056,\n",
       " 0.5038873151516423,\n",
       " 0.4826502828946104,\n",
       " 0.6617630983057128,\n",
       " 0.6466379881353301,\n",
       " 0.4656079680556407,\n",
       " 0.43953734459456745,\n",
       " 0.4484140746835577,\n",
       " 0.5426767066666647,\n",
       " 0.6323921088235364,\n",
       " 0.4317982037499178,\n",
       " 0.5303524240504736,\n",
       " 0.6022074635136075,\n",
       " 0.4468838418919207,\n",
       " 0.6428953365074925,\n",
       " 0.640983873972576,\n",
       " 0.5997686816894279,\n",
       " 0.6683893899992108]"
      ]
     },
     "execution_count": 109,
     "metadata": {},
     "output_type": "execute_result"
    }
   ],
   "source": [
    "mean_set0 = []\n",
    "cr_set0 = []\n",
    "for n in range(1,25) :\n",
    "    ddd = set_0[80*(n-1):80*n]\n",
    "    ddd1 = ddd[(ddd['RT'] < 0.998) & (ddd['RT'] > 0.0426)]\n",
    "    mean = ddd1['RT'].mean()\n",
    "    mean_set0.append(mean)\n",
    "    cr = ddd1['cr'].sum()\n",
    "    cr1 = cr/len(ddd1['RT'])\n",
    "    cr_set0.append(cr1)\n",
    "    \n",
    "mean_set0"
   ]
  },
  {
   "cell_type": "code",
   "execution_count": 110,
   "metadata": {},
   "outputs": [
    {
     "data": {
      "text/plain": [
       "[1.0,\n",
       " 1.0,\n",
       " 0.9565217391304348,\n",
       " 0.9466666666666667,\n",
       " 0.9367088607594937,\n",
       " 0.925,\n",
       " 0.9733333333333334,\n",
       " 0.9848484848484849,\n",
       " 0.9868421052631579,\n",
       " 0.9661016949152542,\n",
       " 0.9491525423728814,\n",
       " 0.9583333333333334,\n",
       " 0.918918918918919,\n",
       " 1.0,\n",
       " 0.9666666666666667,\n",
       " 0.9705882352941176,\n",
       " 0.9375,\n",
       " 0.9873417721518988,\n",
       " 0.9324324324324325,\n",
       " 0.8378378378378378,\n",
       " 0.9523809523809523,\n",
       " 0.9863013698630136,\n",
       " 0.9154929577464789,\n",
       " 0.94]"
      ]
     },
     "execution_count": 110,
     "metadata": {},
     "output_type": "execute_result"
    }
   ],
   "source": [
    "cr_set0"
   ]
  },
  {
   "cell_type": "code",
   "execution_count": 111,
   "metadata": {},
   "outputs": [
    {
     "data": {
      "text/plain": [
       "[0.5940311196721223,\n",
       " 0.6393268849076879,\n",
       " 0.6126643857143456,\n",
       " 0.4753317946666599,\n",
       " 0.35225408717969214,\n",
       " 0.42449194999985596,\n",
       " 0.49594246266666836,\n",
       " 0.4854213705881621,\n",
       " 0.4164666041100122,\n",
       " 0.574804817241439,\n",
       " 0.6217221867921597,\n",
       " 0.4787152527778744,\n",
       " 0.41211172077915265,\n",
       " 0.43991229746832317,\n",
       " 0.5161323249999946,\n",
       " 0.6416119836065564,\n",
       " 0.4105274050000389,\n",
       " 0.5092843089740853,\n",
       " 0.5697126357142094,\n",
       " 0.44360977297312915,\n",
       " 0.5902166249993267,\n",
       " 0.616926506493738,\n",
       " 0.5553308366199391,\n",
       " 0.6311487183663804]"
      ]
     },
     "execution_count": 111,
     "metadata": {},
     "output_type": "execute_result"
    }
   ],
   "source": [
    "mean_set1 = []\n",
    "cr_set1 = []\n",
    "\n",
    "for n in range(1,25) :\n",
    "    aaa = set_1[80*(n-1):80*n]\n",
    "    aaa1 = aaa[(aaa['RT'] < 0.925) & (aaa['RT'] > 0.032)]\n",
    "    mean = aaa1['RT'].mean()\n",
    "    mean_set1.append(mean)\n",
    "    cr = aaa1['cr'].sum()\n",
    "    cr1 = cr/len(aaa1['RT'])\n",
    "    cr_set1.append(cr1)\n",
    "\n",
    "mean_set1"
   ]
  },
  {
   "cell_type": "code",
   "execution_count": 112,
   "metadata": {},
   "outputs": [
    {
     "data": {
      "text/plain": [
       "[1.0,\n",
       " 0.9811320754716981,\n",
       " 0.9795918367346939,\n",
       " 0.9733333333333334,\n",
       " 0.9615384615384616,\n",
       " 0.875,\n",
       " 0.96,\n",
       " 1.0,\n",
       " 0.9863013698630136,\n",
       " 1.0,\n",
       " 0.9811320754716981,\n",
       " 0.9305555555555556,\n",
       " 0.948051948051948,\n",
       " 0.9367088607594937,\n",
       " 0.9444444444444444,\n",
       " 0.9836065573770492,\n",
       " 0.875,\n",
       " 0.9743589743589743,\n",
       " 0.9571428571428572,\n",
       " 0.9459459459459459,\n",
       " 0.9833333333333333,\n",
       " 1.0,\n",
       " 0.9859154929577465,\n",
       " 0.9387755102040817]"
      ]
     },
     "execution_count": 112,
     "metadata": {},
     "output_type": "execute_result"
    }
   ],
   "source": [
    "cr_set1"
   ]
  },
  {
   "cell_type": "markdown",
   "metadata": {},
   "source": [
    "#  \n",
    "# Statistical Testing"
   ]
  },
  {
   "cell_type": "code",
   "execution_count": 113,
   "metadata": {},
   "outputs": [
    {
     "data": {
      "text/plain": [
       "((array([-1.90380091, -1.48287381, -1.22601535, -1.03156092, -0.8698858 ,\n",
       "         -0.7282709 , -0.59996024, -0.48085763, -0.36822879, -0.26009875,\n",
       "         -0.154935  , -0.05146182,  0.05146182,  0.154935  ,  0.26009875,\n",
       "          0.36822879,  0.48085763,  0.59996024,  0.7282709 ,  0.8698858 ,\n",
       "          1.03156092,  1.22601535,  1.48287381,  1.90380091]),\n",
       "  array([0.35225409, 0.41052741, 0.41211172, 0.4164666 , 0.42449195,\n",
       "         0.4399123 , 0.44360977, 0.47533179, 0.47871525, 0.48542137,\n",
       "         0.49594246, 0.50928431, 0.51613232, 0.55533084, 0.56971264,\n",
       "         0.57480482, 0.59021662, 0.59403112, 0.61266439, 0.61692651,\n",
       "         0.62172219, 0.63114872, 0.63932688, 0.64161198])),\n",
       " (0.08934362938357411, 0.5211540855129814, 0.97511882559265))"
      ]
     },
     "execution_count": 113,
     "metadata": {},
     "output_type": "execute_result"
    },
    {
     "data": {
      "image/png": "[encoded data removed]",
      "text/plain": [
       "<Figure size 864x432 with 4 Axes>"
      ]
     },
     "metadata": {
      "needs_background": "light"
     },
     "output_type": "display_data"
    }
   ],
   "source": [
    "from scipy.stats import probplot\n",
    "\n",
    "f, axes = plt.subplots(2, 2, figsize=(12, 6))\n",
    "\n",
    "sns.distplot(mean_set0, hist=True, ax=axes[0][0])\n",
    "probplot(mean_set0, plot=axes[1][0]) #scipy.stats.probplot\n",
    "\n",
    "sns.distplot(mean_set1, hist=True, ax=axes[0][1])\n",
    "probplot(mean_set1, plot=axes[1][1]) #scipy.stats.probplot"
   ]
  },
  {
   "cell_type": "code",
   "execution_count": 114,
   "metadata": {},
   "outputs": [],
   "source": [
    "import scipy"
   ]
  },
  {
   "cell_type": "code",
   "execution_count": 121,
   "metadata": {},
   "outputs": [
    {
     "name": "stdout",
     "output_type": "stream",
     "text": [
      "(0.8888527154922485, 0.012586225755512714)\n",
      "(0.8579974174499512, 0.0030881690327078104)\n",
      "BartlettResult(statistic=0.045300594506898044, pvalue=0.8314522597510805)\n"
     ]
    }
   ],
   "source": [
    "print(scipy.stats.shapiro(cr_set0))\n",
    "print(scipy.stats.shapiro(cr_set1))\n",
    "print(scipy.stats.bartlett(cr_set0, cr_set1))"
   ]
  },
  {
   "cell_type": "code",
   "execution_count": 122,
   "metadata": {},
   "outputs": [
    {
     "data": {
      "text/plain": [
       "WilcoxonResult(statistic=102.0, pvalue=0.2735436610893661)"
      ]
     },
     "execution_count": 122,
     "metadata": {},
     "output_type": "execute_result"
    }
   ],
   "source": [
    "scipy.stats.wilcoxon(cr_set0, y=cr_set1, zero_method='wilcox', correction=False)"
   ]
  },
  {
   "cell_type": "code",
   "execution_count": 115,
   "metadata": {},
   "outputs": [
    {
     "name": "stdout",
     "output_type": "stream",
     "text": [
      "(0.9189748167991638, 0.055441685020923615)\n",
      "(0.9345122575759888, 0.12299489974975586)\n",
      "BartlettResult(statistic=0.32628875440157307, pvalue=0.5678526192425599)\n"
     ]
    }
   ],
   "source": [
    "print(scipy.stats.shapiro(mean_set0))\n",
    "print(scipy.stats.shapiro(mean_set1))\n",
    "print(scipy.stats.bartlett(mean_set0, mean_set1))"
   ]
  },
  {
   "cell_type": "code",
   "execution_count": 117,
   "metadata": {},
   "outputs": [
    {
     "data": {
      "text/plain": [
       "WilcoxonResult(statistic=25.0, pvalue=0.00035503938074694154)"
      ]
     },
     "execution_count": 117,
     "metadata": {},
     "output_type": "execute_result"
    }
   ],
   "source": [
    "scipy.stats.wilcoxon(mean_set0, y=mean_set1, zero_method='wilcox', correction=False)"
   ]
  },
  {
   "cell_type": "code",
   "execution_count": 118,
   "metadata": {},
   "outputs": [
    {
     "name": "stdout",
     "output_type": "stream",
     "text": [
      "글 - 그림 세트의 평균 반응속도:  0.5449614761649201\n",
      "그림 - 글 세트의 평균 반응속도:  0.5211540855129814\n"
     ]
    }
   ],
   "source": [
    "import numpy as np\n",
    "print('글 - 그림 세트의 평균 반응속도: ', np.array(mean_set0).mean())\n",
    "print('그림 - 글 세트의 평균 반응속도: ', np.array(mean_set1).mean())"
   ]
  },
  {
   "cell_type": "code",
   "execution_count": 123,
   "metadata": {},
   "outputs": [
    {
     "name": "stdout",
     "output_type": "stream",
     "text": [
      "글 - 그림 세트의 평균 정답률:  0.9553737459964733\n",
      "그림 - 글 세트의 평균 정답률:  0.962577859689347\n"
     ]
    }
   ],
   "source": [
    "print('글 - 그림 세트의 평균 정답률: ', np.array(cr_set0).mean())\n",
    "print('그림 - 글 세트의 평균 정답률: ', np.array(cr_set1).mean())"
   ]
  },
  {
   "cell_type": "code",
   "execution_count": 119,
   "metadata": {},
   "outputs": [
    {
     "data": {
      "text/plain": [
       "Ttest_relResult(statistic=4.698612099736272, pvalue=9.86581720489321e-05)"
      ]
     },
     "execution_count": 119,
     "metadata": {},
     "output_type": "execute_result"
    }
   ],
   "source": [
    "scipy.stats.ttest_rel(mean_set0, mean_set1, axis=0, nan_policy='propagate')"
   ]
  },
  {
   "cell_type": "code",
   "execution_count": null,
   "metadata": {},
   "outputs": [],
   "source": []
  }
 ],
 "metadata": {
  "kernelspec": {
   "display_name": "Python 3",
   "language": "python",
   "name": "python3"
  },
  "language_info": {
   "codemirror_mode": {
    "name": "ipython",
    "version": 3
   },
   "file_extension": ".py",
   "mimetype": "text/x-python",
   "name": "python",
   "nbconvert_exporter": "python",
   "pygments_lexer": "ipython3",
   "version": "3.7.4"
  }
 },
 "nbformat": 4,
 "nbformat_minor": 2
}
