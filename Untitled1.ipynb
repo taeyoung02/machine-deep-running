{
  "nbformat": 4,
  "nbformat_minor": 0,
  "metadata": {
    "colab": {
      "name": "Untitled1.ipynb",
      "provenance": [],
      "collapsed_sections": [],
      "include_colab_link": true
    },
    "kernelspec": {
      "name": "python3",
      "display_name": "Python 3"
    }
  },
  "cells": [
    {
      "cell_type": "markdown",
      "metadata": {
        "id": "view-in-github",
        "colab_type": "text"
      },
      "source": [
        "<a href=\"https://colab.research.google.com/github/taeyoung02/machine-deep-running/blob/master/Untitled1.ipynb\" target=\"_parent\"><img src=\"https://colab.research.google.com/assets/colab-badge.svg\" alt=\"Open In Colab\"/></a>"
      ]
    },
    {
      "cell_type": "code",
      "metadata": {
        "id": "hS0r8VZOzqFw",
        "colab_type": "code",
        "colab": {
          "base_uri": "https://localhost:8080/",
          "height": 1000
        },
        "outputId": "3b35dcf3-c8ea-4ae3-d179-3866fb28f0ba"
      },
      "source": [
        "import tensorflow as tf\n",
        "x_data=[[73.,80.,75.,],[96.,98.,75],[34.,31.,65.],[23.,56.,87.,],[21.,43.,65.]]\n",
        "y_data=[[152.],[185.],[180.],[232.],[142.]]\n",
        "      \n",
        "X=tf.placeholder(tf.float32, shape=[None,3])#데이타 세트의 갯수:None(뭐든받음), 요소:3개\n",
        "Y=tf.placeholder(tf.float32, shape=[None,1])\n",
        "#X=[5,3] Y=[3,1]이니 W=[5,1]\n",
        "W=tf.Variable(tf.random_normal([3,1]),name='weight')\n",
        "b=tf.Variable(tf.random_normal([1]),name='bias')\n",
        "\n",
        "hypothesis=tf.matmul(X,W)+b\n",
        "\n",
        "cost=tf.reduce_mean(tf.square(hypothesis-Y))\n",
        "\n",
        "optimizer = tf.train.GradientDescentOptimizer(learning_rate=1e-5)\n",
        "train = optimizer.minimize(cost)\n",
        "\n",
        "sess= tf.Session()\n",
        "\n",
        "sess.run(tf.global_variables_initializer())\n",
        "\n",
        "for step in range(2001):\n",
        "  cost_val, hy_val, B,_ = sess.run(#x_data에 5개씩 들어있으니 hy_val도 5개가 나옴\n",
        "      [cost, hypothesis,b, train], feed_dict={X:x_data, Y:y_data})\n",
        "  if step%10==0:\n",
        "    print(step, \"Cost: \",cost_val, \"\\nPrediction:\\n\", hy_val, B)"
      ],
      "execution_count": 5,
      "outputs": [
        {
          "output_type": "stream",
          "text": [
            "0 Cost:  101549.75 \n",
            "Prediction:\n",
            " [[-170.52878 ]\n",
            " [-204.45067 ]\n",
            " [ -79.139786]\n",
            " [-125.85124 ]\n",
            " [ -96.41384 ]] [0.957137]\n",
            
