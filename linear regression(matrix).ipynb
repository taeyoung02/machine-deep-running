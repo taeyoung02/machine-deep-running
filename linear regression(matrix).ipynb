{
 "cells": [
  {
   "cell_type": "markdown",
   "metadata": {},
   "source": [
    "# linear regression(matrix)"
   ]
  },
  {
   "cell_type": "markdown",
   "metadata": {},
   "source": [
    "# 1"
   ]
  },
  {
   "cell_type": "code",
   "execution_count": 3,
   "metadata": {},
   "outputs": [],
   "source": [
    "import tensorflow as tf\n",
    "import numpy as np"
   ]
  },
  {
   "cell_type": "code",
   "execution_count": 26,
   "metadata": {},
   "outputs": [],
   "source": [
    "x_data=[ [1., 2., 0. ,3. ,5.] , [0., 2., 5., 2., 1.]]#2by5\n",
    "y_data=[1.,2.,3.,4.,5.]#1by5"
   ]
  },
  {
   "cell_type": "code",
   "execution_count": 27,
   "metadata": {},
   "outputs": [
    {
     "data": {
      "text/plain": [
       "'\\n1by2 * 2by5 = 1by5\\n w   *   x  =   y\\n \\n 1*W1 + 0*W2 + b = 1\\n 2*W1 + 2*W2 + b = 2\\n'"
      ]
     },
     "execution_count": 27,
     "metadata": {},
     "output_type": "execute_result"
    }
   ],
   "source": [
    "w=tf.Variable(tf.random.uniform((1,2), -1.0, 1.0))#1by2인 -1.0~1.0 난수\n",
    "b=tf.Variable(tf.random.uniform((1,), -1.0, 1.0))#1byN\n",
    "'''\n",
    "1by2 * 2by5 = 1by5\n",
    " w   *   x  =   y\n",
    " \n",
    " 1*W1 + 0*W2 + b = 1\n",
    " 2*W1 + 2*W2 + b = 2\n",
    "'''"
   ]
  },
  {
   "cell_type": "code",
   "execution_count": 31,
   "metadata": {},
   "outputs": [
    {
     "name": "stdout",
     "output_type": "stream",
     "text": [
      "<tf.Variable 'Variable:0' shape=(1, 2) dtype=float32, numpy=array([[-0.27168775, -0.81679153]], dtype=float32)> \n",
      " <tf.Variable 'Variable:0' shape=(1,) dtype=float32, numpy=array([0.5745683], dtype=float32)>\n"
     ]
    }
   ],
   "source": [
    "print(w,'\\n',b)"
   ]
  },
  {
   "cell_type": "code",
   "execution_count": 29,
   "metadata": {},
   "outputs": [],
   "source": [
    "learning_rate=tf.Variable(0.001)"
   ]
  },
  {
   "cell_type": "code",
   "execution_count": 35,
   "metadata": {},
   "outputs": [
    {
     "name": "stdout",
     "output_type": "stream",
     "text": [
      "   0 |     26.782 |     -0.248 |     -0.794 |      0.584\n",
      " 100 |      0.689 |      0.626 |      0.170 |      0.932\n",
      " 200 |      0.351 |      0.687 |      0.315 |      0.943\n",
      " 300 |      0.330 |      0.684 |      0.352 |      0.920\n",
      " 400 |      0.321 |      0.683 |      0.368 |      0.894\n",
      " 500 |      0.313 |      0.685 |      0.378 |      0.867\n",
      " 600 |      0.305 |      0.689 |      0.385 |      0.842\n",
      " 700 |      0.299 |      0.693 |      0.391 |      0.817\n",
      " 800 |      0.292 |      0.698 |      0.396 |      0.792\n",
      " 900 |      0.286 |      0.703 |      0.402 |      0.768\n",
      "1000 |      0.280 |      0.707 |      0.406 |      0.745\n"
     ]
    }
   ],
   "source": [
    "for i in range(1001):\n",
    "    with tf.GradientTape() as tape:\n",
    "        hypothesis = tf.matmul(w, x_data)+b\n",
    "        cost = tf.reduce_mean(tf.square(hypothesis - y_data))\n",
    "        \n",
    "        W_grad, b_grad = tape.gradient(cost, [w,b])\n",
    "        w.assign_sub(learning_rate * W_grad)\n",
    "        b.assign_sub(learning_rate * b_grad)\n",
    "    \n",
    "    if i%100==0:\n",
    "        print(\"{:4} | {:10.3f} | {:10.3f} | {:10.3f} | {:10.3f}\".format(\n",
    "            i, cost.numpy(), w.numpy()[0][0], w.numpy()[0][1], b.numpy()[0]))"
   ]
  },
  {
   "cell_type": "markdown",
   "metadata": {},
   "source": [
    "# 2"
   ]
  },
  {
   "cell_type": "code",
   "execution_count": 36,
   "metadata": {},
   "outputs": [],
   "source": [
    "X = tf.constant([[1., 2.], [3., 4.]])#2by2\n",
    "y = tf.constant([[1.5], [3.5]])#2by1"
   ]
  },
  {
   "cell_type": "code",
   "execution_count": 53,
   "metadata": {},
   "outputs": [
    {
     "data": {
      "text/plain": [
       "<tf.Variable 'Variable:0' shape=(2, 1) dtype=float32, numpy=\n",
       "array([[-1.4232914],\n",
       "       [ 1.6137878]], dtype=float32)>"
      ]
     },
     "execution_count": 53,
     "metadata": {},
     "output_type": "execute_result"
    }
   ],
   "source": [
    "W=tf.Variable(tf.random.normal( [2,1] )) #() == []\n",
    "b=tf.Variable(tf.random.normal( (1,) ))\n",
    "W"
   ]
  },
  {
   "cell_type": "code",
   "execution_count": 54,
   "metadata": {},
   "outputs": [],
   "source": [
    "optimizer = tf.keras.optimizers.SGD(learning_rate=0.01)"
   ]
  },
  {
   "cell_type": "code",
   "execution_count": 70,
   "metadata": {},
   "outputs": [
    {
     "name": "stdout",
     "output_type": "stream",
     "text": [
      "epoch | cost\n",
      "   0 |      0.000\n",
      " 100 |      0.000\n",
      " 200 |      0.000\n",
      " 300 |      0.000\n",
      " 400 |      0.000\n",
      " 500 |      0.000\n",
      " 600 |      0.000\n",
      " 700 |      0.000\n",
      " 800 |      0.000\n",
      " 900 |      0.000\n",
      "1000 |      0.000\n"
     ]
    }
   ],
   "source": [
    "n_epoch=1001\n",
    "print(\"epoch | cost\")\n",
    "\n",
    "for i in range(n_epoch):\n",
    "    with tf.GradientTape() as tape:\n",
    "        y_pred = tf.matmul(X, W)+b\n",
    "        cost = tf.reduce_mean(tf.square(y_pred -y))\n",
    "    \n",
    "    grads = tape.gradient(cost, [W,b])\n",
    "    \n",
    "    optimizer.apply_gradients(grads_and_vars = zip(grads, [W,b]))\n",
    "    \n",
    "    if i % 100 == 0:\n",
    "        print(\"{:4} | {:10.3f}\".format(i, cost.numpy()))#소수점이상 10자리\n",
    "                                                        #소수점이하 3자리"
   ]
  },
  {
   "cell_type": "code",
   "execution_count": 71,
   "metadata": {},
   "outputs": [
    {
     "name": "stdout",
     "output_type": "stream",
     "text": [
      "<tf.Variable 'Variable:0' shape=(2, 1) dtype=float32, numpy=\n",
      "array([[-0.43160564],\n",
      "       [ 1.4315981 ]], dtype=float32)> <tf.Variable 'Variable:0' shape=(1,) dtype=float32, numpy=array([-0.9315796], dtype=float32)>\n"
     ]
    }
   ],
   "source": [
    "print(W, b)"
   ]
  },
  {
   "cell_type": "code",
   "execution_count": 72,
   "metadata": {},
   "outputs": [
    {
     "data": {
      "text/plain": [
       "<tf.Tensor: shape=(2, 1), dtype=float32, numpy=\n",
       "array([[1.500011 ],\n",
       "       [3.4999957]], dtype=float32)>"
      ]
     },
     "execution_count": 72,
     "metadata": {},
     "output_type": "execute_result"
    }
   ],
   "source": [
    "tf.matmul(X,W)+b"
   ]
  },
  {
   "cell_type": "code",
   "execution_count": 75,
   "metadata": {},
   "outputs": [
    {
     "data": {
      "text/plain": [
       "<tf.Tensor: shape=(2, 1), dtype=float32, numpy=\n",
       "array([[1.5],\n",
       "       [3.5]], dtype=float32)>"
      ]
     },
     "execution_count": 75,
     "metadata": {},
     "output_type": "execute_result"
    }
   ],
   "source": [
    "y"
   ]
  },
  {
   "cell_type": "code",
   "execution_count": 73,
   "metadata": {},
   "outputs": [
    {
     "data": {
      "text/plain": [
       "array([[-0.43160564],\n",
       "       [ 1.4315981 ]], dtype=float32)"
      ]
     },
     "execution_count": 73,
     "metadata": {},
     "output_type": "execute_result"
    }
   ],
   "source": [
    "W.numpy()"
   ]
  },
  {
   "cell_type": "code",
   "execution_count": 74,
   "metadata": {},
   "outputs": [
    {
     "data": {
      "text/plain": [
       "array([-0.9315796], dtype=float32)"
      ]
     },
     "execution_count": 74,
     "metadata": {},
     "output_type": "execute_result"
    }
   ],
   "source": [
    "b.numpy()"
   ]
  },
  {
   "cell_type": "markdown",
   "metadata": {},
   "source": [
    "# tf.multyply() = 원소곱\n",
    "# tf.matmul() = 행렬곱"
   ]
  },
  {
   "cell_type": "code",
   "execution_count": null,
   "metadata": {},
   "outputs": [],
   "source": []
  }
 ],
 "metadata": {
  "kernelspec": {
   "display_name": "Python 3",
   "language": "python",
   "name": "python3"
  },
  "language_info": {
   "codemirror_mode": {
    "name": "ipython",
    "version": 3
   },
   "file_extension": ".py",
   "mimetype": "text/x-python",
   "name": "python",
   "nbconvert_exporter": "python",
   "pygments_lexer": "ipython3",
   "version": "3.7.4"
  }
 },
 "nbformat": 4,
 "nbformat_minor": 2
}
